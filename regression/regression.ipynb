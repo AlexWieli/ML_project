{
 "cells": [
  {
   "cell_type": "code",
   "execution_count": 1,
   "metadata": {},
   "outputs": [],
   "source": [
    "# Libraries\n",
    "\n",
    "import math\n",
    "import seaborn as sns\n",
    "from matplotlib import pyplot as plt\n",
    "import pandas as pd\n",
    "import numpy as np\n",
    "from pandas.plotting import scatter_matrix\n",
    "from sklearn.preprocessing import StandardScaler\n",
    "from sklearn.tree import DecisionTreeRegressor\n",
    "from sklearn.model_selection import GridSearchCV\n",
    "from sklearn.model_selection import RandomizedSearchCV\n",
    "from sklearn.metrics import mean_absolute_error\n"
   ]
  },
  {
   "attachments": {},
   "cell_type": "markdown",
   "metadata": {},
   "source": [
    "# Data import and preview"
   ]
  },
  {
   "cell_type": "code",
   "execution_count": 2,
   "metadata": {},
   "outputs": [],
   "source": [
    "dataset_train = pd.read_csv('C:/Users/olekw/Desktop/Studia/MAG 1 - WNE/12.ML/__Project/_data/newborn_train.csv')\n",
    "dataset_test = pd.read_csv('C:/Users/olekw/Desktop/Studia/MAG 1 - WNE/12.ML/__Project/_data/newborn_test.csv')\n",
    "pd.options.display.float_format = '{:20.2f}'.format"
   ]
  },
  {
   "cell_type": "code",
   "execution_count": 3,
   "metadata": {},
   "outputs": [
    {
     "data": {
      "text/html": [
       "<div>\n",
       "<style scoped>\n",
       "    .dataframe tbody tr th:only-of-type {\n",
       "        vertical-align: middle;\n",
       "    }\n",
       "\n",
       "    .dataframe tbody tr th {\n",
       "        vertical-align: top;\n",
       "    }\n",
       "\n",
       "    .dataframe thead th {\n",
       "        text-align: right;\n",
       "    }\n",
       "</style>\n",
       "<table border=\"1\" class=\"dataframe\">\n",
       "  <thead>\n",
       "    <tr style=\"text-align: right;\">\n",
       "      <th></th>\n",
       "      <th>mother_body_mass_index</th>\n",
       "      <th>mother_marital_status</th>\n",
       "      <th>mother_delivery_weight</th>\n",
       "      <th>mother_race</th>\n",
       "      <th>mother_height</th>\n",
       "      <th>mother_weight_gain</th>\n",
       "      <th>father_age</th>\n",
       "      <th>father_education</th>\n",
       "      <th>cigarettes_before_pregnancy</th>\n",
       "      <th>prenatal_care_month</th>\n",
       "      <th>number_prenatal_visits</th>\n",
       "      <th>previous_cesarean</th>\n",
       "      <th>newborn_gender</th>\n",
       "      <th>newborn_weight</th>\n",
       "    </tr>\n",
       "  </thead>\n",
       "  <tbody>\n",
       "    <tr>\n",
       "      <th>0</th>\n",
       "      <td>30.80</td>\n",
       "      <td>2.00</td>\n",
       "      <td>220.00</td>\n",
       "      <td>1</td>\n",
       "      <td>65.00</td>\n",
       "      <td>35.00</td>\n",
       "      <td>29.00</td>\n",
       "      <td>6</td>\n",
       "      <td>0.00</td>\n",
       "      <td>2</td>\n",
       "      <td>10.00</td>\n",
       "      <td>N</td>\n",
       "      <td>F</td>\n",
       "      <td>3045</td>\n",
       "    </tr>\n",
       "    <tr>\n",
       "      <th>1</th>\n",
       "      <td>45.80</td>\n",
       "      <td>NaN</td>\n",
       "      <td>293.00</td>\n",
       "      <td>1</td>\n",
       "      <td>64.00</td>\n",
       "      <td>26.00</td>\n",
       "      <td>37.00</td>\n",
       "      <td>4</td>\n",
       "      <td>0.00</td>\n",
       "      <td>3</td>\n",
       "      <td>10.00</td>\n",
       "      <td>N</td>\n",
       "      <td>F</td>\n",
       "      <td>3061</td>\n",
       "    </tr>\n",
       "    <tr>\n",
       "      <th>2</th>\n",
       "      <td>NaN</td>\n",
       "      <td>1.00</td>\n",
       "      <td>NaN</td>\n",
       "      <td>1</td>\n",
       "      <td>66.00</td>\n",
       "      <td>NaN</td>\n",
       "      <td>33.00</td>\n",
       "      <td>6</td>\n",
       "      <td>0.00</td>\n",
       "      <td>3</td>\n",
       "      <td>NaN</td>\n",
       "      <td>N</td>\n",
       "      <td>F</td>\n",
       "      <td>3827</td>\n",
       "    </tr>\n",
       "    <tr>\n",
       "      <th>3</th>\n",
       "      <td>24.30</td>\n",
       "      <td>1.00</td>\n",
       "      <td>157.00</td>\n",
       "      <td>1</td>\n",
       "      <td>NaN</td>\n",
       "      <td>20.00</td>\n",
       "      <td>27.00</td>\n",
       "      <td>6</td>\n",
       "      <td>0.00</td>\n",
       "      <td>3</td>\n",
       "      <td>9.00</td>\n",
       "      <td>N</td>\n",
       "      <td>M</td>\n",
       "      <td>3997</td>\n",
       "    </tr>\n",
       "    <tr>\n",
       "      <th>4</th>\n",
       "      <td>24.10</td>\n",
       "      <td>1.00</td>\n",
       "      <td>187.00</td>\n",
       "      <td>1</td>\n",
       "      <td>65.00</td>\n",
       "      <td>42.00</td>\n",
       "      <td>29.00</td>\n",
       "      <td>8</td>\n",
       "      <td>0.00</td>\n",
       "      <td>2</td>\n",
       "      <td>12.00</td>\n",
       "      <td>N</td>\n",
       "      <td>F</td>\n",
       "      <td>3240</td>\n",
       "    </tr>\n",
       "  </tbody>\n",
       "</table>\n",
       "</div>"
      ],
      "text/plain": [
       "   mother_body_mass_index  mother_marital_status  mother_delivery_weight   \n",
       "0                   30.80                   2.00                  220.00  \\\n",
       "1                   45.80                    NaN                  293.00   \n",
       "2                     NaN                   1.00                     NaN   \n",
       "3                   24.30                   1.00                  157.00   \n",
       "4                   24.10                   1.00                  187.00   \n",
       "\n",
       "   mother_race        mother_height   mother_weight_gain           father_age   \n",
       "0            1                65.00                35.00                29.00  \\\n",
       "1            1                64.00                26.00                37.00   \n",
       "2            1                66.00                  NaN                33.00   \n",
       "3            1                  NaN                20.00                27.00   \n",
       "4            1                65.00                42.00                29.00   \n",
       "\n",
       "   father_education  cigarettes_before_pregnancy  prenatal_care_month   \n",
       "0                 6                         0.00                    2  \\\n",
       "1                 4                         0.00                    3   \n",
       "2                 6                         0.00                    3   \n",
       "3                 6                         0.00                    3   \n",
       "4                 8                         0.00                    2   \n",
       "\n",
       "   number_prenatal_visits previous_cesarean newborn_gender  newborn_weight  \n",
       "0                   10.00                 N              F            3045  \n",
       "1                   10.00                 N              F            3061  \n",
       "2                     NaN                 N              F            3827  \n",
       "3                    9.00                 N              M            3997  \n",
       "4                   12.00                 N              F            3240  "
      ]
     },
     "execution_count": 3,
     "metadata": {},
     "output_type": "execute_result"
    }
   ],
   "source": [
    "dataset_train.head(n=5)"
   ]
  },
  {
   "cell_type": "code",
   "execution_count": 4,
   "metadata": {},
   "outputs": [],
   "source": [
    "dataset_train.describe(include=[np.number], percentiles=[.2]) \\\n",
    "    .transpose().drop('count', axis=1)"
   ]
  },
  {
   "cell_type": "code",
   "execution_count": null,
   "metadata": {},
   "outputs": [
    {
     "data": {
      "text/html": [
       "<div>\n",
       "<style scoped>\n",
       "    .dataframe tbody tr th:only-of-type {\n",
       "        vertical-align: middle;\n",
       "    }\n",
       "\n",
       "    .dataframe tbody tr th {\n",
       "        vertical-align: top;\n",
       "    }\n",
       "\n",
       "    .dataframe thead th {\n",
       "        text-align: right;\n",
       "    }\n",
       "</style>\n",
       "<table border=\"1\" class=\"dataframe\">\n",
       "  <thead>\n",
       "    <tr style=\"text-align: right;\">\n",
       "      <th></th>\n",
       "      <th>unique</th>\n",
       "      <th>top</th>\n",
       "      <th>freq</th>\n",
       "    </tr>\n",
       "  </thead>\n",
       "  <tbody>\n",
       "    <tr>\n",
       "      <th>previous_cesarean</th>\n",
       "      <td>3</td>\n",
       "      <td>N</td>\n",
       "      <td>2020874</td>\n",
       "    </tr>\n",
       "    <tr>\n",
       "      <th>newborn_gender</th>\n",
       "      <td>2</td>\n",
       "      <td>M</td>\n",
       "      <td>1225891</td>\n",
       "    </tr>\n",
       "  </tbody>\n",
       "</table>\n",
       "</div>"
      ],
      "text/plain": [
       "                  unique top     freq\n",
       "previous_cesarean      3   N  2020874\n",
       "newborn_gender         2   M  1225891"
      ]
     },
     "execution_count": 120,
     "metadata": {},
     "output_type": "execute_result"
    }
   ],
   "source": [
    "dataset_train.describe(include=[object]).transpose() \\\n",
    "    .drop('count', axis=1)"
   ]
  },
  {
   "attachments": {},
   "cell_type": "markdown",
   "metadata": {},
   "source": [
    "# Data cleaning"
   ]
  },
  {
   "attachments": {},
   "cell_type": "markdown",
   "metadata": {},
   "source": [
    "## Missing values removal"
   ]
  },
  {
   "cell_type": "code",
   "execution_count": null,
   "metadata": {},
   "outputs": [
    {
     "name": "stdout",
     "output_type": "stream",
     "text": [
      "There are missing values in the training dataset.\n"
     ]
    }
   ],
   "source": [
    "if (dataset_train.isna().values.sum() == 0):\n",
    "    print(\"There are no missing values in the training dataset.\")\n",
    "else:\n",
    "    print(\"There are missing values in the training dataset.\")"
   ]
  },
  {
   "cell_type": "code",
   "execution_count": null,
   "metadata": {},
   "outputs": [
    {
     "name": "stdout",
     "output_type": "stream",
     "text": [
      "There are missing values in the testing dataset.\n"
     ]
    }
   ],
   "source": [
    "if (dataset_test.isna().values.sum() == 0):\n",
    "    print(\"There are no missing values in the testing dataset.\")\n",
    "else:\n",
    "    print(\"There are missing values in the testing dataset.\")"
   ]
  },
  {
   "cell_type": "code",
   "execution_count": null,
   "metadata": {},
   "outputs": [
    {
     "data": {
      "text/html": [
       "<div>\n",
       "<style scoped>\n",
       "    .dataframe tbody tr th:only-of-type {\n",
       "        vertical-align: middle;\n",
       "    }\n",
       "\n",
       "    .dataframe tbody tr th {\n",
       "        vertical-align: top;\n",
       "    }\n",
       "\n",
       "    .dataframe thead th {\n",
       "        text-align: right;\n",
       "    }\n",
       "</style>\n",
       "<table border=\"1\" class=\"dataframe\">\n",
       "  <thead>\n",
       "    <tr style=\"text-align: right;\">\n",
       "      <th></th>\n",
       "      <th>Missing Values</th>\n",
       "      <th>Percentage</th>\n",
       "    </tr>\n",
       "  </thead>\n",
       "  <tbody>\n",
       "    <tr>\n",
       "      <th>father_age</th>\n",
       "      <td>444506</td>\n",
       "      <td>18.54</td>\n",
       "    </tr>\n",
       "    <tr>\n",
       "      <th>mother_marital_status</th>\n",
       "      <td>412510</td>\n",
       "      <td>17.20</td>\n",
       "    </tr>\n",
       "    <tr>\n",
       "      <th>mother_height</th>\n",
       "      <td>244529</td>\n",
       "      <td>10.20</td>\n",
       "    </tr>\n",
       "    <tr>\n",
       "      <th>mother_body_mass_index</th>\n",
       "      <td>146600</td>\n",
       "      <td>6.11</td>\n",
       "    </tr>\n",
       "    <tr>\n",
       "      <th>mother_weight_gain</th>\n",
       "      <td>73473</td>\n",
       "      <td>3.06</td>\n",
       "    </tr>\n",
       "    <tr>\n",
       "      <th>number_prenatal_visits</th>\n",
       "      <td>59901</td>\n",
       "      <td>2.50</td>\n",
       "    </tr>\n",
       "    <tr>\n",
       "      <th>mother_delivery_weight</th>\n",
       "      <td>34958</td>\n",
       "      <td>1.46</td>\n",
       "    </tr>\n",
       "    <tr>\n",
       "      <th>cigarettes_before_pregnancy</th>\n",
       "      <td>11301</td>\n",
       "      <td>0.47</td>\n",
       "    </tr>\n",
       "  </tbody>\n",
       "</table>\n",
       "</div>"
      ],
      "text/plain": [
       "                             Missing Values           Percentage\n",
       "father_age                           444506                18.54\n",
       "mother_marital_status                412510                17.20\n",
       "mother_height                        244529                10.20\n",
       "mother_body_mass_index               146600                 6.11\n",
       "mother_weight_gain                    73473                 3.06\n",
       "number_prenatal_visits                59901                 2.50\n",
       "mother_delivery_weight                34958                 1.46\n",
       "cigarettes_before_pregnancy           11301                 0.47"
      ]
     },
     "execution_count": 123,
     "metadata": {},
     "output_type": "execute_result"
    }
   ],
   "source": [
    "num_missing = dataset_train.isna().sum()\n",
    "# Excluding columns that contains 0 missing values\n",
    "num_missing = num_missing[num_missing > 0]\n",
    "# Getting the percentages of missing values\n",
    "percent_missing = num_missing * 100 / dataset_train.shape[0]\n",
    "# Concatenating the number and perecentage of missing values \n",
    "# into one dataframe and sorting it\n",
    "pd.concat([num_missing, percent_missing], axis=1, \n",
    "          keys=['Missing Values', 'Percentage']).\\\n",
    "          sort_values(by='Missing Values', ascending=False)"
   ]
  },
  {
   "attachments": {},
   "cell_type": "markdown",
   "metadata": {},
   "source": [
    "There are three variables with over 10% of missing values. Those could pose a threat of damaging the model's accuracy if dealt with improperly. The remaining variables have low % of missing values, but we have to deal with them nontheless."
   ]
  },
  {
   "cell_type": "code",
   "execution_count": null,
   "metadata": {},
   "outputs": [
    {
     "data": {
      "text/html": [
       "<div>\n",
       "<style scoped>\n",
       "    .dataframe tbody tr th:only-of-type {\n",
       "        vertical-align: middle;\n",
       "    }\n",
       "\n",
       "    .dataframe tbody tr th {\n",
       "        vertical-align: top;\n",
       "    }\n",
       "\n",
       "    .dataframe thead th {\n",
       "        text-align: right;\n",
       "    }\n",
       "</style>\n",
       "<table border=\"1\" class=\"dataframe\">\n",
       "  <thead>\n",
       "    <tr style=\"text-align: right;\">\n",
       "      <th></th>\n",
       "      <th>Missing Values</th>\n",
       "      <th>Percentage</th>\n",
       "    </tr>\n",
       "  </thead>\n",
       "  <tbody>\n",
       "    <tr>\n",
       "      <th>father_age</th>\n",
       "      <td>110518</td>\n",
       "      <td>18.43</td>\n",
       "    </tr>\n",
       "    <tr>\n",
       "      <th>mother_marital_status</th>\n",
       "      <td>103384</td>\n",
       "      <td>17.24</td>\n",
       "    </tr>\n",
       "    <tr>\n",
       "      <th>mother_height</th>\n",
       "      <td>61559</td>\n",
       "      <td>10.27</td>\n",
       "    </tr>\n",
       "    <tr>\n",
       "      <th>mother_body_mass_index</th>\n",
       "      <td>36791</td>\n",
       "      <td>6.14</td>\n",
       "    </tr>\n",
       "    <tr>\n",
       "      <th>mother_weight_gain</th>\n",
       "      <td>18334</td>\n",
       "      <td>3.06</td>\n",
       "    </tr>\n",
       "    <tr>\n",
       "      <th>number_prenatal_visits</th>\n",
       "      <td>14985</td>\n",
       "      <td>2.50</td>\n",
       "    </tr>\n",
       "    <tr>\n",
       "      <th>mother_delivery_weight</th>\n",
       "      <td>8644</td>\n",
       "      <td>1.44</td>\n",
       "    </tr>\n",
       "    <tr>\n",
       "      <th>cigarettes_before_pregnancy</th>\n",
       "      <td>2907</td>\n",
       "      <td>0.48</td>\n",
       "    </tr>\n",
       "  </tbody>\n",
       "</table>\n",
       "</div>"
      ],
      "text/plain": [
       "                             Missing Values           Percentage\n",
       "father_age                           110518                18.43\n",
       "mother_marital_status                103384                17.24\n",
       "mother_height                         61559                10.27\n",
       "mother_body_mass_index                36791                 6.14\n",
       "mother_weight_gain                    18334                 3.06\n",
       "number_prenatal_visits                14985                 2.50\n",
       "mother_delivery_weight                 8644                 1.44\n",
       "cigarettes_before_pregnancy            2907                 0.48"
      ]
     },
     "execution_count": 124,
     "metadata": {},
     "output_type": "execute_result"
    }
   ],
   "source": [
    "num_missing_t = dataset_test.isna().sum()\n",
    "# Excluding columns that contains 0 missing values\n",
    "num_missing_t = num_missing_t[num_missing_t > 0]\n",
    "# Getting the percentages of missing values\n",
    "percent_missing_t = num_missing_t * 100 / dataset_test.shape[0]\n",
    "# Concatenating the number and perecentage of missing values \n",
    "# into one dataframe and sorting it\n",
    "pd.concat([num_missing_t, percent_missing_t], axis=1, \n",
    "          keys=['Missing Values', 'Percentage']).\\\n",
    "          sort_values(by='Missing Values', ascending=False)"
   ]
  },
  {
   "attachments": {},
   "cell_type": "markdown",
   "metadata": {},
   "source": [
    "## Missing's - Variables"
   ]
  },
  {
   "attachments": {},
   "cell_type": "markdown",
   "metadata": {},
   "source": [
    "### Father age\n",
    "\n",
    "In this case, we will replace the missing values with the average fathers age."
   ]
  },
  {
   "cell_type": "code",
   "execution_count": null,
   "metadata": {},
   "outputs": [
    {
     "data": {
      "text/plain": [
       "father_age\n",
       "32.00    120181\n",
       "31.00    118844\n",
       "33.00    116729\n",
       "30.00    116504\n",
       "29.00    109740\n",
       "          ...  \n",
       "91.00         1\n",
       "11.00         1\n",
       "85.00         1\n",
       "98.00         1\n",
       "82.00         1\n",
       "Name: count, Length: 78, dtype: int64"
      ]
     },
     "execution_count": 125,
     "metadata": {},
     "output_type": "execute_result"
    }
   ],
   "source": [
    "dataset_train['father_age'].value_counts()"
   ]
  },
  {
   "cell_type": "code",
   "execution_count": null,
   "metadata": {},
   "outputs": [],
   "source": [
    "dataset_train['father_age'].fillna(round(dataset_train['father_age'].mean()), inplace=True)\n",
    "dataset_test['father_age'].fillna(round(dataset_test['father_age'].mean()), inplace=True)"
   ]
  },
  {
   "attachments": {},
   "cell_type": "markdown",
   "metadata": {},
   "source": [
    "### Mother marital status\n",
    "\n",
    "1 - Married ||\n",
    "2 - Not married --> 0 - Other\n",
    "\n",
    "In this case, missing values will be replaced with 0, as we will assume that the missing values could be describing other marital statuses, not directly described as 'married'."
   ]
  },
  {
   "cell_type": "code",
   "execution_count": null,
   "metadata": {},
   "outputs": [
    {
     "data": {
      "text/plain": [
       "mother_marital_status\n",
       "1.00    1192238\n",
       "2.00     793368\n",
       "Name: count, dtype: int64"
      ]
     },
     "execution_count": 127,
     "metadata": {},
     "output_type": "execute_result"
    }
   ],
   "source": [
    "dataset_train['mother_marital_status'].value_counts()"
   ]
  },
  {
   "cell_type": "code",
   "execution_count": null,
   "metadata": {},
   "outputs": [],
   "source": [
    "dataset_test['mother_marital_status'].fillna(0, inplace=True)\n",
    "dataset_train['mother_marital_status'].fillna(0, inplace=True)"
   ]
  },
  {
   "attachments": {},
   "cell_type": "markdown",
   "metadata": {},
   "source": [
    "### Mother height\n",
    "\n",
    "In this case, we will replace the missing values with the average of the height."
   ]
  },
  {
   "cell_type": "code",
   "execution_count": null,
   "metadata": {},
   "outputs": [
    {
     "data": {
      "text/plain": [
       "mother_height\n",
       "64.00    319699\n",
       "63.00    281534\n",
       "62.00    273071\n",
       "65.00    257357\n",
       "66.00    237395\n",
       "67.00    187786\n",
       "61.00    155167\n",
       "60.00    119183\n",
       "68.00    103323\n",
       "69.00     69668\n",
       "59.00     49961\n",
       "70.00     34409\n",
       "71.00     18487\n",
       "58.00     12701\n",
       "57.00     11234\n",
       "72.00      8406\n",
       "56.00      4039\n",
       "73.00      2774\n",
       "55.00      1756\n",
       "74.00      1401\n",
       "54.00       797\n",
       "53.00       752\n",
       "75.00       513\n",
       "78.00       438\n",
       "48.00       283\n",
       "76.00       269\n",
       "77.00       266\n",
       "49.00       256\n",
       "52.00       242\n",
       "51.00       201\n",
       "50.00       153\n",
       "30.00        10\n",
       "47.00         9\n",
       "45.00         8\n",
       "36.00         7\n",
       "39.00         7\n",
       "46.00         6\n",
       "37.00         3\n",
       "41.00         3\n",
       "38.00         3\n",
       "40.00         2\n",
       "31.00         2\n",
       "42.00         2\n",
       "43.00         2\n",
       "32.00         1\n",
       "33.00         1\n",
       "Name: count, dtype: int64"
      ]
     },
     "execution_count": 129,
     "metadata": {},
     "output_type": "execute_result"
    }
   ],
   "source": [
    "dataset_train['mother_height'].value_counts()"
   ]
  },
  {
   "cell_type": "code",
   "execution_count": null,
   "metadata": {},
   "outputs": [],
   "source": [
    "dataset_train['mother_height'] = np.where(\n",
    "    dataset_train['mother_height'].isnull() & np.isfinite(dataset_train['mother_body_mass_index']) & np.isfinite(dataset_train['mother_weight_gain']) & np.isfinite(dataset_train['mother_delivery_weight']), \n",
    "    round((((dataset_train['mother_delivery_weight']-dataset_train['mother_weight_gain'])*703)/dataset_train['mother_body_mass_index'])**(0.5)), \n",
    "    dataset_train['mother_height'])\n",
    "\n",
    "dataset_test['mother_height'] = np.where(\n",
    "    dataset_test['mother_height'].isnull() & np.isfinite(dataset_test['mother_body_mass_index']) & np.isfinite(dataset_test['mother_weight_gain']) & np.isfinite(dataset_test['mother_delivery_weight']), \n",
    "    round((((dataset_test['mother_delivery_weight']-dataset_test['mother_weight_gain'])*703)/dataset_test['mother_body_mass_index'])**(0.5)), \n",
    "    dataset_test['mother_height'])"
   ]
  },
  {
   "cell_type": "code",
   "execution_count": null,
   "metadata": {},
   "outputs": [
    {
     "data": {
      "text/plain": [
       "mother_height\n",
       "64.00    351777\n",
       "63.00    310109\n",
       "62.00    300557\n",
       "65.00    283399\n",
       "66.00    261282\n",
       "67.00    206678\n",
       "61.00    170933\n",
       "60.00    131166\n",
       "68.00    113770\n",
       "69.00     76557\n",
       "59.00     54958\n",
       "70.00     37896\n",
       "71.00     20291\n",
       "58.00     14061\n",
       "57.00     12376\n",
       "72.00      9239\n",
       "56.00      4450\n",
       "73.00      3048\n",
       "55.00      1941\n",
       "74.00      1547\n",
       "54.00       874\n",
       "53.00       852\n",
       "75.00       560\n",
       "78.00       454\n",
       "48.00       310\n",
       "76.00       301\n",
       "77.00       290\n",
       "49.00       275\n",
       "52.00       261\n",
       "51.00       222\n",
       "50.00       169\n",
       "79.00        15\n",
       "47.00        11\n",
       "30.00        10\n",
       "45.00         9\n",
       "39.00         7\n",
       "36.00         7\n",
       "46.00         6\n",
       "41.00         4\n",
       "81.00         4\n",
       "38.00         3\n",
       "37.00         3\n",
       "80.00         3\n",
       "31.00         2\n",
       "42.00         2\n",
       "40.00         2\n",
       "43.00         2\n",
       "82.00         1\n",
       "32.00         1\n",
       "44.00         1\n",
       "83.00         1\n",
       "33.00         1\n",
       "Name: count, dtype: int64"
      ]
     },
     "execution_count": 131,
     "metadata": {},
     "output_type": "execute_result"
    }
   ],
   "source": [
    "dataset_train['mother_height'].value_counts()"
   ]
  },
  {
   "cell_type": "code",
   "execution_count": null,
   "metadata": {},
   "outputs": [],
   "source": [
    "dataset_test['mother_height'].fillna(round(dataset_test['mother_height'].mean()), inplace=True)\n",
    "dataset_train['mother_height'].fillna(round(dataset_train['mother_height'].mean()), inplace=True)"
   ]
  },
  {
   "attachments": {},
   "cell_type": "markdown",
   "metadata": {},
   "source": [
    "### Mother body mass index\n",
    "\n",
    "In this case, we will replace the missing values with the average of the BMI."
   ]
  },
  {
   "cell_type": "code",
   "execution_count": null,
   "metadata": {},
   "outputs": [
    {
     "data": {
      "text/plain": [
       "mother_body_mass_index\n",
       "26.60    41362\n",
       "28.30    36430\n",
       "23.00    29869\n",
       "22.30    28077\n",
       "25.80    27046\n",
       "         ...  \n",
       "67.20        1\n",
       "69.40        1\n",
       "66.30        1\n",
       "68.90        1\n",
       "68.60        1\n",
       "Name: count, Length: 561, dtype: int64"
      ]
     },
     "execution_count": 133,
     "metadata": {},
     "output_type": "execute_result"
    }
   ],
   "source": [
    "dataset_train['mother_body_mass_index'].value_counts()"
   ]
  },
  {
   "cell_type": "code",
   "execution_count": null,
   "metadata": {},
   "outputs": [],
   "source": [
    "dataset_train['mother_body_mass_index'] = np.where(\n",
    "    dataset_train['mother_body_mass_index'].isnull() & np.isfinite(dataset_train['mother_weight_gain']) & np.isfinite(dataset_train['mother_delivery_weight']), \n",
    "    round((703*(dataset_train['mother_delivery_weight']-dataset_train['mother_weight_gain']))/(dataset_train['mother_height']**2),2), \n",
    "    dataset_train['mother_height'])\n",
    "\n",
    "dataset_test['mother_body_mass_index'] = np.where(\n",
    "    dataset_test['mother_body_mass_index'].isnull() & np.isfinite(dataset_test['mother_weight_gain']) & np.isfinite(dataset_test['mother_delivery_weight']), \n",
    "    round((703*(dataset_test['mother_delivery_weight']-dataset_test['mother_weight_gain']))/(dataset_test['mother_height']**2),2), \n",
    "    dataset_test['mother_height'])"
   ]
  },
  {
   "cell_type": "code",
   "execution_count": null,
   "metadata": {},
   "outputs": [],
   "source": [
    "dataset_train['mother_body_mass_index'].fillna(round(dataset_train['mother_body_mass_index'].mean(),2), inplace=True)\n",
    "dataset_test['mother_body_mass_index'].fillna(round(dataset_test['mother_body_mass_index'].mean(),2), inplace=True)"
   ]
  },
  {
   "attachments": {},
   "cell_type": "markdown",
   "metadata": {},
   "source": [
    "### Mother weight gain\n",
    "\n",
    "In this case, we will replace the missing values with the mothers average weight gain."
   ]
  },
  {
   "cell_type": "code",
   "execution_count": null,
   "metadata": {},
   "outputs": [
    {
     "data": {
      "text/plain": [
       "mother_weight_gain\n",
       "30.00    110254\n",
       "20.00     84648\n",
       "25.00     80517\n",
       "35.00     73636\n",
       " 0.00     68723\n",
       "          ...  \n",
       "91.00       251\n",
       "94.00       232\n",
       "93.00       228\n",
       "96.00       215\n",
       "97.00       181\n",
       "Name: count, Length: 99, dtype: int64"
      ]
     },
     "execution_count": 136,
     "metadata": {},
     "output_type": "execute_result"
    }
   ],
   "source": [
    "dataset_train['mother_weight_gain'].value_counts()"
   ]
  },
  {
   "cell_type": "code",
   "execution_count": null,
   "metadata": {},
   "outputs": [],
   "source": [
    "dataset_train['mother_weight_gain'].fillna(round(dataset_train['mother_weight_gain'].mean(),2), inplace=True)\n",
    "dataset_test['mother_weight_gain'].fillna(round(dataset_test['mother_weight_gain'].mean(),2), inplace=True)"
   ]
  },
  {
   "attachments": {},
   "cell_type": "markdown",
   "metadata": {},
   "source": [
    "### Number prenatal visits\n",
    "\n",
    "In this case, as the number of prenatal visits is the highets around 10-14, with outliers around 60-70, we will replace the missing values with the average of the visits."
   ]
  },
  {
   "cell_type": "code",
   "execution_count": null,
   "metadata": {},
   "outputs": [
    {
     "data": {
      "text/plain": [
       "number_prenatal_visits\n",
       "12.00    370513\n",
       "10.00    313608\n",
       "11.00    238126\n",
       "13.00    229898\n",
       "14.00    193076\n",
       "          ...  \n",
       "62.00         1\n",
       "71.00         1\n",
       "68.00         1\n",
       "66.00         1\n",
       "63.00         1\n",
       "Name: count, Length: 81, dtype: int64"
      ]
     },
     "execution_count": 138,
     "metadata": {},
     "output_type": "execute_result"
    }
   ],
   "source": [
    "dataset_train['number_prenatal_visits'].value_counts()"
   ]
  },
  {
   "cell_type": "code",
   "execution_count": null,
   "metadata": {},
   "outputs": [],
   "source": [
    "dataset_train['number_prenatal_visits'].fillna(round(dataset_train['number_prenatal_visits'].mean()), inplace=True)\n",
    "dataset_test['number_prenatal_visits'].fillna(round(dataset_test['number_prenatal_visits'].mean()), inplace=True)"
   ]
  },
  {
   "attachments": {},
   "cell_type": "markdown",
   "metadata": {},
   "source": [
    "### Mother delivery weight\n",
    "\n",
    "In this case, we will replace the missing values with the mothers average weight."
   ]
  },
  {
   "cell_type": "code",
   "execution_count": null,
   "metadata": {},
   "outputs": [
    {
     "data": {
      "text/plain": [
       "mother_delivery_weight\n",
       "160.00    47979\n",
       "180.00    47202\n",
       "170.00    44111\n",
       "150.00    40506\n",
       "165.00    37313\n",
       "          ...  \n",
       "399.00       47\n",
       "393.00       47\n",
       "387.00       45\n",
       "397.00       41\n",
       "394.00       38\n",
       "Name: count, Length: 301, dtype: int64"
      ]
     },
     "execution_count": 140,
     "metadata": {},
     "output_type": "execute_result"
    }
   ],
   "source": [
    "dataset_train['mother_delivery_weight'].value_counts()"
   ]
  },
  {
   "cell_type": "code",
   "execution_count": null,
   "metadata": {},
   "outputs": [],
   "source": [
    "dataset_train['mother_delivery_weight'].fillna(round(dataset_train['mother_delivery_weight'].mean()), inplace=True)\n",
    "dataset_test['mother_delivery_weight'].fillna(round(dataset_test['mother_delivery_weight'].mean()), inplace=True)"
   ]
  },
  {
   "attachments": {},
   "cell_type": "markdown",
   "metadata": {},
   "source": [
    "### Cigarettes before pregnancy\n",
    "\n",
    "In this case, since the percentage of missing values is low (0.47%), we will optimistically replace the missing values with 0."
   ]
  },
  {
   "cell_type": "code",
   "execution_count": null,
   "metadata": {},
   "outputs": [
    {
     "data": {
      "text/plain": [
       "cigarettes_before_pregnancy\n",
       " 0.00    2186624\n",
       "20.00      60078\n",
       "10.00      53333\n",
       " 5.00      21147\n",
       " 3.00       9887\n",
       "          ...   \n",
       "92.00          1\n",
       "69.00          1\n",
       "29.00          1\n",
       "73.00          1\n",
       "72.00          1\n",
       "Name: count, Length: 67, dtype: int64"
      ]
     },
     "execution_count": 142,
     "metadata": {},
     "output_type": "execute_result"
    }
   ],
   "source": [
    "dataset_train['cigarettes_before_pregnancy'].value_counts()"
   ]
  },
  {
   "cell_type": "code",
   "execution_count": null,
   "metadata": {},
   "outputs": [],
   "source": [
    "dataset_train['cigarettes_before_pregnancy'].fillna(0, inplace=True)\n",
    "dataset_test['cigarettes_before_pregnancy'].fillna(0, inplace=True)"
   ]
  },
  {
   "attachments": {},
   "cell_type": "markdown",
   "metadata": {},
   "source": [
    "### Prenatal care month - 99 issue\n",
    "\n",
    "With this variable, describing in which month the prenatal care was first provided, the issue we are facing is 99 encoding no prenatal care provided. Since the data is very detailed when it comes to all the different variables, we are by default assuming that the birth took place at the hospital, or a different professional health care facility, which could take those measurements, hence, a minimal amount of prenatal care had to be provided at least at the very last seconds before birth. With this assumption, we will go forward with replacing 99 values with 9, which shouldn't disturb the data too much, since neither 99 or 9 is not among the most populated groups."
   ]
  },
  {
   "cell_type": "code",
   "execution_count": null,
   "metadata": {},
   "outputs": [
    {
     "data": {
      "text/plain": [
       "prenatal_care_month\n",
       "2     941813\n",
       "3     730167\n",
       "4     210075\n",
       "1     139262\n",
       "5     105509\n",
       "6      65178\n",
       "99     59760\n",
       "7      51778\n",
       "0      40409\n",
       "8      38619\n",
       "9      15276\n",
       "10       270\n",
       "Name: count, dtype: int64"
      ]
     },
     "execution_count": 144,
     "metadata": {},
     "output_type": "execute_result"
    }
   ],
   "source": [
    "dataset_train['prenatal_care_month'].value_counts()"
   ]
  },
  {
   "cell_type": "code",
   "execution_count": null,
   "metadata": {},
   "outputs": [],
   "source": [
    "dataset_train['prenatal_care_month'] = dataset_train['prenatal_care_month'].replace(99,9)\n",
    "dataset_test['prenatal_care_month'] = dataset_test['prenatal_care_month'].replace(99,9)"
   ]
  },
  {
   "cell_type": "code",
   "execution_count": null,
   "metadata": {},
   "outputs": [
    {
     "data": {
      "text/plain": [
       "prenatal_care_month\n",
       "2     941813\n",
       "3     730167\n",
       "4     210075\n",
       "1     139262\n",
       "5     105509\n",
       "9      75036\n",
       "6      65178\n",
       "7      51778\n",
       "0      40409\n",
       "8      38619\n",
       "10       270\n",
       "Name: count, dtype: int64"
      ]
     },
     "execution_count": 146,
     "metadata": {},
     "output_type": "execute_result"
    }
   ],
   "source": [
    "dataset_train['prenatal_care_month'].value_counts()"
   ]
  },
  {
   "attachments": {},
   "cell_type": "markdown",
   "metadata": {},
   "source": [
    "### Verification"
   ]
  },
  {
   "cell_type": "code",
   "execution_count": null,
   "metadata": {},
   "outputs": [
    {
     "name": "stdout",
     "output_type": "stream",
     "text": [
      "There are no missing values in the training dataset.\n"
     ]
    }
   ],
   "source": [
    "if (dataset_train.isna().values.sum() == 0):\n",
    "    print(\"There are no missing values in the training dataset.\")\n",
    "else:\n",
    "    print(\"There are still missing values in the training dataset.\")"
   ]
  },
  {
   "cell_type": "code",
   "execution_count": null,
   "metadata": {},
   "outputs": [
    {
     "name": "stdout",
     "output_type": "stream",
     "text": [
      "There are no missing values in the training dataset.\n"
     ]
    }
   ],
   "source": [
    "if (dataset_test.isna().values.sum() == 0):\n",
    "    print(\"There are no missing values in the training dataset.\")\n",
    "else:\n",
    "    print(\"There are still missing values in the training dataset.\")"
   ]
  },
  {
   "attachments": {},
   "cell_type": "markdown",
   "metadata": {},
   "source": [
    "## One-hot encoding\n",
    "\n",
    "In this step, we will use one-hot encoding to transform certain nominal variables."
   ]
  },
  {
   "cell_type": "code",
   "execution_count": null,
   "metadata": {},
   "outputs": [
    {
     "data": {
      "text/html": [
       "<div>\n",
       "<style scoped>\n",
       "    .dataframe tbody tr th:only-of-type {\n",
       "        vertical-align: middle;\n",
       "    }\n",
       "\n",
       "    .dataframe tbody tr th {\n",
       "        vertical-align: top;\n",
       "    }\n",
       "\n",
       "    .dataframe thead th {\n",
       "        text-align: right;\n",
       "    }\n",
       "</style>\n",
       "<table border=\"1\" class=\"dataframe\">\n",
       "  <thead>\n",
       "    <tr style=\"text-align: right;\">\n",
       "      <th></th>\n",
       "      <th>mother_body_mass_index</th>\n",
       "      <th>mother_delivery_weight</th>\n",
       "      <th>mother_height</th>\n",
       "      <th>mother_weight_gain</th>\n",
       "      <th>father_age</th>\n",
       "      <th>cigarettes_before_pregnancy</th>\n",
       "      <th>prenatal_care_month</th>\n",
       "      <th>number_prenatal_visits</th>\n",
       "      <th>newborn_weight</th>\n",
       "      <th>mother_marital_status_0.0</th>\n",
       "      <th>...</th>\n",
       "      <th>father_education_5</th>\n",
       "      <th>father_education_6</th>\n",
       "      <th>father_education_7</th>\n",
       "      <th>father_education_8</th>\n",
       "      <th>father_education_9</th>\n",
       "      <th>previous_cesarean_N</th>\n",
       "      <th>previous_cesarean_U</th>\n",
       "      <th>previous_cesarean_Y</th>\n",
       "      <th>newborn_gender_F</th>\n",
       "      <th>newborn_gender_M</th>\n",
       "    </tr>\n",
       "  </thead>\n",
       "  <tbody>\n",
       "    <tr>\n",
       "      <th>0</th>\n",
       "      <td>65.00</td>\n",
       "      <td>220.00</td>\n",
       "      <td>65.00</td>\n",
       "      <td>35.00</td>\n",
       "      <td>29.00</td>\n",
       "      <td>0.00</td>\n",
       "      <td>2</td>\n",
       "      <td>10.00</td>\n",
       "      <td>3045</td>\n",
       "      <td>0</td>\n",
       "      <td>...</td>\n",
       "      <td>0</td>\n",
       "      <td>1</td>\n",
       "      <td>0</td>\n",
       "      <td>0</td>\n",
       "      <td>0</td>\n",
       "      <td>1</td>\n",
       "      <td>0</td>\n",
       "      <td>0</td>\n",
       "      <td>1</td>\n",
       "      <td>0</td>\n",
       "    </tr>\n",
       "    <tr>\n",
       "      <th>1</th>\n",
       "      <td>64.00</td>\n",
       "      <td>293.00</td>\n",
       "      <td>64.00</td>\n",
       "      <td>26.00</td>\n",
       "      <td>37.00</td>\n",
       "      <td>0.00</td>\n",
       "      <td>3</td>\n",
       "      <td>10.00</td>\n",
       "      <td>3061</td>\n",
       "      <td>1</td>\n",
       "      <td>...</td>\n",
       "      <td>0</td>\n",
       "      <td>0</td>\n",
       "      <td>0</td>\n",
       "      <td>0</td>\n",
       "      <td>0</td>\n",
       "      <td>1</td>\n",
       "      <td>0</td>\n",
       "      <td>0</td>\n",
       "      <td>1</td>\n",
       "      <td>0</td>\n",
       "    </tr>\n",
       "    <tr>\n",
       "      <th>2</th>\n",
       "      <td>66.00</td>\n",
       "      <td>188.00</td>\n",
       "      <td>66.00</td>\n",
       "      <td>29.48</td>\n",
       "      <td>33.00</td>\n",
       "      <td>0.00</td>\n",
       "      <td>3</td>\n",
       "      <td>11.00</td>\n",
       "      <td>3827</td>\n",
       "      <td>0</td>\n",
       "      <td>...</td>\n",
       "      <td>0</td>\n",
       "      <td>1</td>\n",
       "      <td>0</td>\n",
       "      <td>0</td>\n",
       "      <td>0</td>\n",
       "      <td>1</td>\n",
       "      <td>0</td>\n",
       "      <td>0</td>\n",
       "      <td>1</td>\n",
       "      <td>0</td>\n",
       "    </tr>\n",
       "    <tr>\n",
       "      <th>3</th>\n",
       "      <td>63.00</td>\n",
       "      <td>157.00</td>\n",
       "      <td>63.00</td>\n",
       "      <td>20.00</td>\n",
       "      <td>27.00</td>\n",
       "      <td>0.00</td>\n",
       "      <td>3</td>\n",
       "      <td>9.00</td>\n",
       "      <td>3997</td>\n",
       "      <td>0</td>\n",
       "      <td>...</td>\n",
       "      <td>0</td>\n",
       "      <td>1</td>\n",
       "      <td>0</td>\n",
       "      <td>0</td>\n",
       "      <td>0</td>\n",
       "      <td>1</td>\n",
       "      <td>0</td>\n",
       "      <td>0</td>\n",
       "      <td>0</td>\n",
       "      <td>1</td>\n",
       "    </tr>\n",
       "    <tr>\n",
       "      <th>4</th>\n",
       "      <td>65.00</td>\n",
       "      <td>187.00</td>\n",
       "      <td>65.00</td>\n",
       "      <td>42.00</td>\n",
       "      <td>29.00</td>\n",
       "      <td>0.00</td>\n",
       "      <td>2</td>\n",
       "      <td>12.00</td>\n",
       "      <td>3240</td>\n",
       "      <td>0</td>\n",
       "      <td>...</td>\n",
       "      <td>0</td>\n",
       "      <td>0</td>\n",
       "      <td>0</td>\n",
       "      <td>1</td>\n",
       "      <td>0</td>\n",
       "      <td>1</td>\n",
       "      <td>0</td>\n",
       "      <td>0</td>\n",
       "      <td>1</td>\n",
       "      <td>0</td>\n",
       "    </tr>\n",
       "    <tr>\n",
       "      <th>...</th>\n",
       "      <td>...</td>\n",
       "      <td>...</td>\n",
       "      <td>...</td>\n",
       "      <td>...</td>\n",
       "      <td>...</td>\n",
       "      <td>...</td>\n",
       "      <td>...</td>\n",
       "      <td>...</td>\n",
       "      <td>...</td>\n",
       "      <td>...</td>\n",
       "      <td>...</td>\n",
       "      <td>...</td>\n",
       "      <td>...</td>\n",
       "      <td>...</td>\n",
       "      <td>...</td>\n",
       "      <td>...</td>\n",
       "      <td>...</td>\n",
       "      <td>...</td>\n",
       "      <td>...</td>\n",
       "      <td>...</td>\n",
       "      <td>...</td>\n",
       "    </tr>\n",
       "    <tr>\n",
       "      <th>2398111</th>\n",
       "      <td>63.00</td>\n",
       "      <td>152.00</td>\n",
       "      <td>63.00</td>\n",
       "      <td>27.00</td>\n",
       "      <td>32.00</td>\n",
       "      <td>0.00</td>\n",
       "      <td>4</td>\n",
       "      <td>5.00</td>\n",
       "      <td>3015</td>\n",
       "      <td>0</td>\n",
       "      <td>...</td>\n",
       "      <td>0</td>\n",
       "      <td>0</td>\n",
       "      <td>0</td>\n",
       "      <td>0</td>\n",
       "      <td>0</td>\n",
       "      <td>1</td>\n",
       "      <td>0</td>\n",
       "      <td>0</td>\n",
       "      <td>0</td>\n",
       "      <td>1</td>\n",
       "    </tr>\n",
       "    <tr>\n",
       "      <th>2398112</th>\n",
       "      <td>71.00</td>\n",
       "      <td>260.00</td>\n",
       "      <td>71.00</td>\n",
       "      <td>16.00</td>\n",
       "      <td>33.00</td>\n",
       "      <td>0.00</td>\n",
       "      <td>1</td>\n",
       "      <td>13.00</td>\n",
       "      <td>3572</td>\n",
       "      <td>0</td>\n",
       "      <td>...</td>\n",
       "      <td>0</td>\n",
       "      <td>0</td>\n",
       "      <td>0</td>\n",
       "      <td>0</td>\n",
       "      <td>0</td>\n",
       "      <td>1</td>\n",
       "      <td>0</td>\n",
       "      <td>0</td>\n",
       "      <td>0</td>\n",
       "      <td>1</td>\n",
       "    </tr>\n",
       "    <tr>\n",
       "      <th>2398113</th>\n",
       "      <td>63.00</td>\n",
       "      <td>157.00</td>\n",
       "      <td>63.00</td>\n",
       "      <td>18.00</td>\n",
       "      <td>26.00</td>\n",
       "      <td>0.00</td>\n",
       "      <td>3</td>\n",
       "      <td>15.00</td>\n",
       "      <td>3299</td>\n",
       "      <td>0</td>\n",
       "      <td>...</td>\n",
       "      <td>0</td>\n",
       "      <td>0</td>\n",
       "      <td>0</td>\n",
       "      <td>0</td>\n",
       "      <td>0</td>\n",
       "      <td>1</td>\n",
       "      <td>0</td>\n",
       "      <td>0</td>\n",
       "      <td>1</td>\n",
       "      <td>0</td>\n",
       "    </tr>\n",
       "    <tr>\n",
       "      <th>2398114</th>\n",
       "      <td>61.00</td>\n",
       "      <td>185.00</td>\n",
       "      <td>61.00</td>\n",
       "      <td>47.00</td>\n",
       "      <td>31.00</td>\n",
       "      <td>0.00</td>\n",
       "      <td>2</td>\n",
       "      <td>15.00</td>\n",
       "      <td>3062</td>\n",
       "      <td>1</td>\n",
       "      <td>...</td>\n",
       "      <td>0</td>\n",
       "      <td>0</td>\n",
       "      <td>0</td>\n",
       "      <td>0</td>\n",
       "      <td>0</td>\n",
       "      <td>1</td>\n",
       "      <td>0</td>\n",
       "      <td>0</td>\n",
       "      <td>0</td>\n",
       "      <td>1</td>\n",
       "    </tr>\n",
       "    <tr>\n",
       "      <th>2398115</th>\n",
       "      <td>63.00</td>\n",
       "      <td>172.00</td>\n",
       "      <td>63.00</td>\n",
       "      <td>42.00</td>\n",
       "      <td>43.00</td>\n",
       "      <td>0.00</td>\n",
       "      <td>5</td>\n",
       "      <td>9.00</td>\n",
       "      <td>3660</td>\n",
       "      <td>0</td>\n",
       "      <td>...</td>\n",
       "      <td>0</td>\n",
       "      <td>1</td>\n",
       "      <td>0</td>\n",
       "      <td>0</td>\n",
       "      <td>0</td>\n",
       "      <td>0</td>\n",
       "      <td>0</td>\n",
       "      <td>1</td>\n",
       "      <td>0</td>\n",
       "      <td>1</td>\n",
       "    </tr>\n",
       "  </tbody>\n",
       "</table>\n",
       "<p>2398116 rows × 32 columns</p>\n",
       "</div>"
      ],
      "text/plain": [
       "         mother_body_mass_index  mother_delivery_weight        mother_height   \n",
       "0                         65.00                  220.00                65.00  \\\n",
       "1                         64.00                  293.00                64.00   \n",
       "2                         66.00                  188.00                66.00   \n",
       "3                         63.00                  157.00                63.00   \n",
       "4                         65.00                  187.00                65.00   \n",
       "...                         ...                     ...                  ...   \n",
       "2398111                   63.00                  152.00                63.00   \n",
       "2398112                   71.00                  260.00                71.00   \n",
       "2398113                   63.00                  157.00                63.00   \n",
       "2398114                   61.00                  185.00                61.00   \n",
       "2398115                   63.00                  172.00                63.00   \n",
       "\n",
       "          mother_weight_gain           father_age   \n",
       "0                      35.00                29.00  \\\n",
       "1                      26.00                37.00   \n",
       "2                      29.48                33.00   \n",
       "3                      20.00                27.00   \n",
       "4                      42.00                29.00   \n",
       "...                      ...                  ...   \n",
       "2398111                27.00                32.00   \n",
       "2398112                16.00                33.00   \n",
       "2398113                18.00                26.00   \n",
       "2398114                47.00                31.00   \n",
       "2398115                42.00                43.00   \n",
       "\n",
       "         cigarettes_before_pregnancy  prenatal_care_month   \n",
       "0                               0.00                    2  \\\n",
       "1                               0.00                    3   \n",
       "2                               0.00                    3   \n",
       "3                               0.00                    3   \n",
       "4                               0.00                    2   \n",
       "...                              ...                  ...   \n",
       "2398111                         0.00                    4   \n",
       "2398112                         0.00                    1   \n",
       "2398113                         0.00                    3   \n",
       "2398114                         0.00                    2   \n",
       "2398115                         0.00                    5   \n",
       "\n",
       "         number_prenatal_visits  newborn_weight  mother_marital_status_0.0   \n",
       "0                         10.00            3045                          0  \\\n",
       "1                         10.00            3061                          1   \n",
       "2                         11.00            3827                          0   \n",
       "3                          9.00            3997                          0   \n",
       "4                         12.00            3240                          0   \n",
       "...                         ...             ...                        ...   \n",
       "2398111                    5.00            3015                          0   \n",
       "2398112                   13.00            3572                          0   \n",
       "2398113                   15.00            3299                          0   \n",
       "2398114                   15.00            3062                          1   \n",
       "2398115                    9.00            3660                          0   \n",
       "\n",
       "         ...  father_education_5  father_education_6  father_education_7   \n",
       "0        ...                   0                   1                   0  \\\n",
       "1        ...                   0                   0                   0   \n",
       "2        ...                   0                   1                   0   \n",
       "3        ...                   0                   1                   0   \n",
       "4        ...                   0                   0                   0   \n",
       "...      ...                 ...                 ...                 ...   \n",
       "2398111  ...                   0                   0                   0   \n",
       "2398112  ...                   0                   0                   0   \n",
       "2398113  ...                   0                   0                   0   \n",
       "2398114  ...                   0                   0                   0   \n",
       "2398115  ...                   0                   1                   0   \n",
       "\n",
       "         father_education_8  father_education_9  previous_cesarean_N   \n",
       "0                         0                   0                    1  \\\n",
       "1                         0                   0                    1   \n",
       "2                         0                   0                    1   \n",
       "3                         0                   0                    1   \n",
       "4                         1                   0                    1   \n",
       "...                     ...                 ...                  ...   \n",
       "2398111                   0                   0                    1   \n",
       "2398112                   0                   0                    1   \n",
       "2398113                   0                   0                    1   \n",
       "2398114                   0                   0                    1   \n",
       "2398115                   0                   0                    0   \n",
       "\n",
       "         previous_cesarean_U  previous_cesarean_Y  newborn_gender_F   \n",
       "0                          0                    0                 1  \\\n",
       "1                          0                    0                 1   \n",
       "2                          0                    0                 1   \n",
       "3                          0                    0                 0   \n",
       "4                          0                    0                 1   \n",
       "...                      ...                  ...               ...   \n",
       "2398111                    0                    0                 0   \n",
       "2398112                    0                    0                 0   \n",
       "2398113                    0                    0                 1   \n",
       "2398114                    0                    0                 0   \n",
       "2398115                    0                    1                 0   \n",
       "\n",
       "         newborn_gender_M  \n",
       "0                       0  \n",
       "1                       0  \n",
       "2                       0  \n",
       "3                       1  \n",
       "4                       0  \n",
       "...                   ...  \n",
       "2398111                 1  \n",
       "2398112                 1  \n",
       "2398113                 0  \n",
       "2398114                 1  \n",
       "2398115                 1  \n",
       "\n",
       "[2398116 rows x 32 columns]"
      ]
     },
     "execution_count": 149,
     "metadata": {},
     "output_type": "execute_result"
    }
   ],
   "source": [
    "#Create dummies/one-hot encoding on every nominal attributes in train dataframe\n",
    "mother_marital_status_dummies = pd.get_dummies(dataset_train['mother_marital_status'],prefix='mother_marital_status')\n",
    "mother_race_dummies = pd.get_dummies(dataset_train['mother_race'],prefix='mother_race')\n",
    "father_education_dummies = pd.get_dummies(dataset_train['father_education'],prefix='father_education')\n",
    "previous_cesarean_dummies = pd.get_dummies(dataset_train['previous_cesarean'],prefix='previous_cesarean')\n",
    "newborn_gender_dummies = pd.get_dummies(dataset_train['newborn_gender'],prefix='newborn_gender')\n",
    "\n",
    "#Concate the dummies into train dataset\n",
    "d_train = pd.concat([dataset_train, mother_marital_status_dummies, mother_race_dummies, father_education_dummies, previous_cesarean_dummies, newborn_gender_dummies], axis=1)\n",
    "\n",
    "#Drop categorical attribute (before transformation)\n",
    "d_train = d_train.drop(['mother_marital_status','mother_race', 'father_education', 'previous_cesarean', 'newborn_gender'], axis=1)\n",
    "\n",
    "d_train = d_train.replace(False,0)\n",
    "d_train = d_train.replace(True,1)\n",
    "d_train"
   ]
  },
  {
   "cell_type": "code",
   "execution_count": null,
   "metadata": {},
   "outputs": [
    {
     "data": {
      "text/html": [
       "<div>\n",
       "<style scoped>\n",
       "    .dataframe tbody tr th:only-of-type {\n",
       "        vertical-align: middle;\n",
       "    }\n",
       "\n",
       "    .dataframe tbody tr th {\n",
       "        vertical-align: top;\n",
       "    }\n",
       "\n",
       "    .dataframe thead th {\n",
       "        text-align: right;\n",
       "    }\n",
       "</style>\n",
       "<table border=\"1\" class=\"dataframe\">\n",
       "  <thead>\n",
       "    <tr style=\"text-align: right;\">\n",
       "      <th></th>\n",
       "      <th>mother_body_mass_index</th>\n",
       "      <th>mother_delivery_weight</th>\n",
       "      <th>mother_height</th>\n",
       "      <th>mother_weight_gain</th>\n",
       "      <th>father_age</th>\n",
       "      <th>cigarettes_before_pregnancy</th>\n",
       "      <th>prenatal_care_month</th>\n",
       "      <th>number_prenatal_visits</th>\n",
       "      <th>mother_marital_status_0.0</th>\n",
       "      <th>mother_marital_status_1.0</th>\n",
       "      <th>...</th>\n",
       "      <th>father_education_5</th>\n",
       "      <th>father_education_6</th>\n",
       "      <th>father_education_7</th>\n",
       "      <th>father_education_8</th>\n",
       "      <th>father_education_9</th>\n",
       "      <th>previous_cesarean_N</th>\n",
       "      <th>previous_cesarean_U</th>\n",
       "      <th>previous_cesarean_Y</th>\n",
       "      <th>newborn_gender_F</th>\n",
       "      <th>newborn_gender_M</th>\n",
       "    </tr>\n",
       "  </thead>\n",
       "  <tbody>\n",
       "    <tr>\n",
       "      <th>0</th>\n",
       "      <td>63.00</td>\n",
       "      <td>149.00</td>\n",
       "      <td>63.00</td>\n",
       "      <td>23.00</td>\n",
       "      <td>30.00</td>\n",
       "      <td>0.00</td>\n",
       "      <td>2</td>\n",
       "      <td>15.00</td>\n",
       "      <td>0</td>\n",
       "      <td>1</td>\n",
       "      <td>...</td>\n",
       "      <td>0</td>\n",
       "      <td>1</td>\n",
       "      <td>0</td>\n",
       "      <td>0</td>\n",
       "      <td>0</td>\n",
       "      <td>1</td>\n",
       "      <td>0</td>\n",
       "      <td>0</td>\n",
       "      <td>1</td>\n",
       "      <td>0</td>\n",
       "    </tr>\n",
       "    <tr>\n",
       "      <th>1</th>\n",
       "      <td>67.00</td>\n",
       "      <td>198.00</td>\n",
       "      <td>67.00</td>\n",
       "      <td>23.00</td>\n",
       "      <td>28.00</td>\n",
       "      <td>0.00</td>\n",
       "      <td>4</td>\n",
       "      <td>16.00</td>\n",
       "      <td>0</td>\n",
       "      <td>1</td>\n",
       "      <td>...</td>\n",
       "      <td>0</td>\n",
       "      <td>0</td>\n",
       "      <td>0</td>\n",
       "      <td>0</td>\n",
       "      <td>0</td>\n",
       "      <td>1</td>\n",
       "      <td>0</td>\n",
       "      <td>0</td>\n",
       "      <td>1</td>\n",
       "      <td>0</td>\n",
       "    </tr>\n",
       "    <tr>\n",
       "      <th>2</th>\n",
       "      <td>64.00</td>\n",
       "      <td>164.00</td>\n",
       "      <td>64.00</td>\n",
       "      <td>20.00</td>\n",
       "      <td>22.00</td>\n",
       "      <td>0.00</td>\n",
       "      <td>2</td>\n",
       "      <td>11.00</td>\n",
       "      <td>0</td>\n",
       "      <td>0</td>\n",
       "      <td>...</td>\n",
       "      <td>0</td>\n",
       "      <td>0</td>\n",
       "      <td>0</td>\n",
       "      <td>0</td>\n",
       "      <td>0</td>\n",
       "      <td>1</td>\n",
       "      <td>0</td>\n",
       "      <td>0</td>\n",
       "      <td>1</td>\n",
       "      <td>0</td>\n",
       "    </tr>\n",
       "    <tr>\n",
       "      <th>3</th>\n",
       "      <td>66.00</td>\n",
       "      <td>235.00</td>\n",
       "      <td>66.00</td>\n",
       "      <td>20.00</td>\n",
       "      <td>24.00</td>\n",
       "      <td>0.00</td>\n",
       "      <td>2</td>\n",
       "      <td>13.00</td>\n",
       "      <td>0</td>\n",
       "      <td>0</td>\n",
       "      <td>...</td>\n",
       "      <td>0</td>\n",
       "      <td>0</td>\n",
       "      <td>0</td>\n",
       "      <td>0</td>\n",
       "      <td>0</td>\n",
       "      <td>1</td>\n",
       "      <td>0</td>\n",
       "      <td>0</td>\n",
       "      <td>0</td>\n",
       "      <td>1</td>\n",
       "    </tr>\n",
       "    <tr>\n",
       "      <th>4</th>\n",
       "      <td>64.00</td>\n",
       "      <td>213.00</td>\n",
       "      <td>64.00</td>\n",
       "      <td>5.00</td>\n",
       "      <td>32.00</td>\n",
       "      <td>0.00</td>\n",
       "      <td>3</td>\n",
       "      <td>9.00</td>\n",
       "      <td>1</td>\n",
       "      <td>0</td>\n",
       "      <td>...</td>\n",
       "      <td>0</td>\n",
       "      <td>0</td>\n",
       "      <td>0</td>\n",
       "      <td>0</td>\n",
       "      <td>1</td>\n",
       "      <td>1</td>\n",
       "      <td>0</td>\n",
       "      <td>0</td>\n",
       "      <td>1</td>\n",
       "      <td>0</td>\n",
       "    </tr>\n",
       "    <tr>\n",
       "      <th>...</th>\n",
       "      <td>...</td>\n",
       "      <td>...</td>\n",
       "      <td>...</td>\n",
       "      <td>...</td>\n",
       "      <td>...</td>\n",
       "      <td>...</td>\n",
       "      <td>...</td>\n",
       "      <td>...</td>\n",
       "      <td>...</td>\n",
       "      <td>...</td>\n",
       "      <td>...</td>\n",
       "      <td>...</td>\n",
       "      <td>...</td>\n",
       "      <td>...</td>\n",
       "      <td>...</td>\n",
       "      <td>...</td>\n",
       "      <td>...</td>\n",
       "      <td>...</td>\n",
       "      <td>...</td>\n",
       "      <td>...</td>\n",
       "      <td>...</td>\n",
       "    </tr>\n",
       "    <tr>\n",
       "      <th>599556</th>\n",
       "      <td>64.00</td>\n",
       "      <td>139.00</td>\n",
       "      <td>64.00</td>\n",
       "      <td>30.00</td>\n",
       "      <td>30.00</td>\n",
       "      <td>0.00</td>\n",
       "      <td>4</td>\n",
       "      <td>10.00</td>\n",
       "      <td>0</td>\n",
       "      <td>1</td>\n",
       "      <td>...</td>\n",
       "      <td>0</td>\n",
       "      <td>0</td>\n",
       "      <td>0</td>\n",
       "      <td>0</td>\n",
       "      <td>0</td>\n",
       "      <td>1</td>\n",
       "      <td>0</td>\n",
       "      <td>0</td>\n",
       "      <td>1</td>\n",
       "      <td>0</td>\n",
       "    </tr>\n",
       "    <tr>\n",
       "      <th>599557</th>\n",
       "      <td>24.89</td>\n",
       "      <td>193.00</td>\n",
       "      <td>64.00</td>\n",
       "      <td>48.00</td>\n",
       "      <td>22.00</td>\n",
       "      <td>10.00</td>\n",
       "      <td>3</td>\n",
       "      <td>12.00</td>\n",
       "      <td>1</td>\n",
       "      <td>0</td>\n",
       "      <td>...</td>\n",
       "      <td>0</td>\n",
       "      <td>0</td>\n",
       "      <td>0</td>\n",
       "      <td>0</td>\n",
       "      <td>0</td>\n",
       "      <td>1</td>\n",
       "      <td>0</td>\n",
       "      <td>0</td>\n",
       "      <td>1</td>\n",
       "      <td>0</td>\n",
       "    </tr>\n",
       "    <tr>\n",
       "      <th>599558</th>\n",
       "      <td>64.00</td>\n",
       "      <td>259.00</td>\n",
       "      <td>64.00</td>\n",
       "      <td>19.00</td>\n",
       "      <td>23.00</td>\n",
       "      <td>0.00</td>\n",
       "      <td>3</td>\n",
       "      <td>11.00</td>\n",
       "      <td>0</td>\n",
       "      <td>0</td>\n",
       "      <td>...</td>\n",
       "      <td>0</td>\n",
       "      <td>0</td>\n",
       "      <td>0</td>\n",
       "      <td>0</td>\n",
       "      <td>0</td>\n",
       "      <td>0</td>\n",
       "      <td>0</td>\n",
       "      <td>1</td>\n",
       "      <td>1</td>\n",
       "      <td>0</td>\n",
       "    </tr>\n",
       "    <tr>\n",
       "      <th>599559</th>\n",
       "      <td>67.00</td>\n",
       "      <td>207.00</td>\n",
       "      <td>67.00</td>\n",
       "      <td>1.00</td>\n",
       "      <td>27.00</td>\n",
       "      <td>0.00</td>\n",
       "      <td>4</td>\n",
       "      <td>13.00</td>\n",
       "      <td>1</td>\n",
       "      <td>0</td>\n",
       "      <td>...</td>\n",
       "      <td>0</td>\n",
       "      <td>0</td>\n",
       "      <td>0</td>\n",
       "      <td>0</td>\n",
       "      <td>0</td>\n",
       "      <td>1</td>\n",
       "      <td>0</td>\n",
       "      <td>0</td>\n",
       "      <td>1</td>\n",
       "      <td>0</td>\n",
       "    </tr>\n",
       "    <tr>\n",
       "      <th>599560</th>\n",
       "      <td>63.00</td>\n",
       "      <td>126.00</td>\n",
       "      <td>63.00</td>\n",
       "      <td>2.00</td>\n",
       "      <td>32.00</td>\n",
       "      <td>0.00</td>\n",
       "      <td>5</td>\n",
       "      <td>2.00</td>\n",
       "      <td>0</td>\n",
       "      <td>0</td>\n",
       "      <td>...</td>\n",
       "      <td>0</td>\n",
       "      <td>0</td>\n",
       "      <td>0</td>\n",
       "      <td>0</td>\n",
       "      <td>1</td>\n",
       "      <td>0</td>\n",
       "      <td>0</td>\n",
       "      <td>1</td>\n",
       "      <td>1</td>\n",
       "      <td>0</td>\n",
       "    </tr>\n",
       "  </tbody>\n",
       "</table>\n",
       "<p>599561 rows × 31 columns</p>\n",
       "</div>"
      ],
      "text/plain": [
       "        mother_body_mass_index  mother_delivery_weight        mother_height   \n",
       "0                        63.00                  149.00                63.00  \\\n",
       "1                        67.00                  198.00                67.00   \n",
       "2                        64.00                  164.00                64.00   \n",
       "3                        66.00                  235.00                66.00   \n",
       "4                        64.00                  213.00                64.00   \n",
       "...                        ...                     ...                  ...   \n",
       "599556                   64.00                  139.00                64.00   \n",
       "599557                   24.89                  193.00                64.00   \n",
       "599558                   64.00                  259.00                64.00   \n",
       "599559                   67.00                  207.00                67.00   \n",
       "599560                   63.00                  126.00                63.00   \n",
       "\n",
       "         mother_weight_gain           father_age  cigarettes_before_pregnancy   \n",
       "0                     23.00                30.00                         0.00  \\\n",
       "1                     23.00                28.00                         0.00   \n",
       "2                     20.00                22.00                         0.00   \n",
       "3                     20.00                24.00                         0.00   \n",
       "4                      5.00                32.00                         0.00   \n",
       "...                     ...                  ...                          ...   \n",
       "599556                30.00                30.00                         0.00   \n",
       "599557                48.00                22.00                        10.00   \n",
       "599558                19.00                23.00                         0.00   \n",
       "599559                 1.00                27.00                         0.00   \n",
       "599560                 2.00                32.00                         0.00   \n",
       "\n",
       "        prenatal_care_month  number_prenatal_visits   \n",
       "0                         2                   15.00  \\\n",
       "1                         4                   16.00   \n",
       "2                         2                   11.00   \n",
       "3                         2                   13.00   \n",
       "4                         3                    9.00   \n",
       "...                     ...                     ...   \n",
       "599556                    4                   10.00   \n",
       "599557                    3                   12.00   \n",
       "599558                    3                   11.00   \n",
       "599559                    4                   13.00   \n",
       "599560                    5                    2.00   \n",
       "\n",
       "        mother_marital_status_0.0  mother_marital_status_1.0  ...   \n",
       "0                               0                          1  ...  \\\n",
       "1                               0                          1  ...   \n",
       "2                               0                          0  ...   \n",
       "3                               0                          0  ...   \n",
       "4                               1                          0  ...   \n",
       "...                           ...                        ...  ...   \n",
       "599556                          0                          1  ...   \n",
       "599557                          1                          0  ...   \n",
       "599558                          0                          0  ...   \n",
       "599559                          1                          0  ...   \n",
       "599560                          0                          0  ...   \n",
       "\n",
       "        father_education_5  father_education_6  father_education_7   \n",
       "0                        0                   1                   0  \\\n",
       "1                        0                   0                   0   \n",
       "2                        0                   0                   0   \n",
       "3                        0                   0                   0   \n",
       "4                        0                   0                   0   \n",
       "...                    ...                 ...                 ...   \n",
       "599556                   0                   0                   0   \n",
       "599557                   0                   0                   0   \n",
       "599558                   0                   0                   0   \n",
       "599559                   0                   0                   0   \n",
       "599560                   0                   0                   0   \n",
       "\n",
       "        father_education_8  father_education_9  previous_cesarean_N   \n",
       "0                        0                   0                    1  \\\n",
       "1                        0                   0                    1   \n",
       "2                        0                   0                    1   \n",
       "3                        0                   0                    1   \n",
       "4                        0                   1                    1   \n",
       "...                    ...                 ...                  ...   \n",
       "599556                   0                   0                    1   \n",
       "599557                   0                   0                    1   \n",
       "599558                   0                   0                    0   \n",
       "599559                   0                   0                    1   \n",
       "599560                   0                   1                    0   \n",
       "\n",
       "        previous_cesarean_U  previous_cesarean_Y  newborn_gender_F   \n",
       "0                         0                    0                 1  \\\n",
       "1                         0                    0                 1   \n",
       "2                         0                    0                 1   \n",
       "3                         0                    0                 0   \n",
       "4                         0                    0                 1   \n",
       "...                     ...                  ...               ...   \n",
       "599556                    0                    0                 1   \n",
       "599557                    0                    0                 1   \n",
       "599558                    0                    1                 1   \n",
       "599559                    0                    0                 1   \n",
       "599560                    0                    1                 1   \n",
       "\n",
       "        newborn_gender_M  \n",
       "0                      0  \n",
       "1                      0  \n",
       "2                      0  \n",
       "3                      1  \n",
       "4                      0  \n",
       "...                  ...  \n",
       "599556                 0  \n",
       "599557                 0  \n",
       "599558                 0  \n",
       "599559                 0  \n",
       "599560                 0  \n",
       "\n",
       "[599561 rows x 31 columns]"
      ]
     },
     "execution_count": 150,
     "metadata": {},
     "output_type": "execute_result"
    }
   ],
   "source": [
    "#Create dummies/one-hot encoding on every nominal attributes in test dataframe\n",
    "mother_marital_status_dummies = pd.get_dummies(dataset_test['mother_marital_status'],prefix='mother_marital_status')\n",
    "mother_race_dummies = pd.get_dummies(dataset_test['mother_race'],prefix='mother_race')\n",
    "father_education_dummies = pd.get_dummies(dataset_test['father_education'],prefix='father_education')\n",
    "previous_cesarean_dummies = pd.get_dummies(dataset_test['previous_cesarean'],prefix='previous_cesarean')\n",
    "newborn_gender_dummies = pd.get_dummies(dataset_test['newborn_gender'],prefix='newborn_gender')\n",
    "\n",
    "#Concate the dummies into test dataset\n",
    "d_test = pd.concat([dataset_test, mother_marital_status_dummies, mother_race_dummies, father_education_dummies, previous_cesarean_dummies, newborn_gender_dummies], axis=1)\n",
    "\n",
    "#Drop categorical attribute (before transformation)\n",
    "d_test = d_test.drop(['mother_marital_status','mother_race', 'father_education', 'previous_cesarean', 'newborn_gender'], axis=1)\n",
    "\n",
    "d_test = d_test.replace(False,0)\n",
    "d_test = d_test.replace(True,1)\n",
    "d_test"
   ]
  },
  {
   "attachments": {},
   "cell_type": "markdown",
   "metadata": {},
   "source": [
    "# PLACEHOLDER - SCATTER"
   ]
  },
  {
   "cell_type": "code",
   "execution_count": null,
   "metadata": {},
   "outputs": [
    {
     "data": {
      "image/png": "[encoded data removed]",
      "text/plain": [
       "<Figure size 640x480 with 1 Axes>"
      ]
     },
     "metadata": {},
     "output_type": "display_data"
    }
   ],
   "source": [
    "plt.scatter(x=d_train['prenatal_care_month'], y=d_train['newborn_weight'], \n",
    "            color=\"orange\", edgecolors=\"#000000\", linewidths=0.5);\n",
    "plt.xlabel('prenatal_care_month'); plt.ylabel('newborn_weight');"
   ]
  },
  {
   "attachments": {},
   "cell_type": "markdown",
   "metadata": {},
   "source": [
    "# Exploratory Data Analysis"
   ]
  },
  {
   "attachments": {},
   "cell_type": "markdown",
   "metadata": {},
   "source": [
    "## Newborn weight"
   ]
  },
  {
   "cell_type": "code",
   "execution_count": null,
   "metadata": {},
   "outputs": [
    {
     "data": {
      "text/plain": [
       "<Axes: xlabel='newborn_weight'>"
      ]
     },
     "execution_count": 152,
     "metadata": {},
     "output_type": "execute_result"
    },
    {
     "data": {
      "image/png": "[encoded data removed]",
      "text/plain": [
       "<Figure size 640x480 with 1 Axes>"
      ]
     },
     "metadata": {},
     "output_type": "display_data"
    }
   ],
   "source": [
    "sns.violinplot(x=d_train['newborn_weight'], inner=\"quartile\")"
   ]
  },
  {
   "cell_type": "code",
   "execution_count": null,
   "metadata": {},
   "outputs": [
    {
     "data": {
      "text/plain": [
       "<Axes: >"
      ]
     },
     "execution_count": 153,
     "metadata": {},
     "output_type": "execute_result"
    },
    {
     "data": {
      "image/png": "[encoded data removed]",
      "text/plain": [
       "<Figure size 640x480 with 1 Axes>"
      ]
     },
     "metadata": {},
     "output_type": "display_data"
    }
   ],
   "source": [
    "sns.boxplot(d_train['newborn_weight'], whis=10)"
   ]
  },
  {
   "cell_type": "code",
   "execution_count": null,
   "metadata": {},
   "outputs": [
    {
     "data": {
      "text/plain": [
       "Text(0, 0.5, 'Count')"
      ]
     },
     "execution_count": 154,
     "metadata": {},
     "output_type": "execute_result"
    },
    {
     "data": {
      "image/png": "[encoded data removed]",
      "text/plain": [
       "<Figure size 640x480 with 1 Axes>"
      ]
     },
     "metadata": {},
     "output_type": "display_data"
    }
   ],
   "source": [
    "sns.histplot(d_train['newborn_weight'])\n",
    "plt.ylabel(\"Count\")"
   ]
  },
  {
   "attachments": {},
   "cell_type": "markdown",
   "metadata": {},
   "source": [
    "## Variables"
   ]
  },
  {
   "cell_type": "code",
   "execution_count": null,
   "metadata": {},
   "outputs": [
    {
     "name": "stdout",
     "output_type": "stream",
     "text": [
      "<class 'pandas.core.frame.DataFrame'>\n",
      "RangeIndex: 2398116 entries, 0 to 2398115\n",
      "Data columns (total 32 columns):\n",
      " #   Column                       Dtype  \n",
      "---  ------                       -----  \n",
      " 0   mother_body_mass_index       float64\n",
      " 1   mother_delivery_weight       float64\n",
      " 2   mother_height                float64\n",
      " 3   mother_weight_gain           float64\n",
      " 4   father_age                   float64\n",
      " 5   cigarettes_before_pregnancy  float64\n",
      " 6   prenatal_care_month          int64  \n",
      " 7   number_prenatal_visits       float64\n",
      " 8   newborn_weight               int64  \n",
      " 9   mother_marital_status_0.0    int64  \n",
      " 10  mother_marital_status_1.0    int64  \n",
      " 11  mother_marital_status_2.0    int64  \n",
      " 12  mother_race_1                int64  \n",
      " 13  mother_race_2                int64  \n",
      " 14  mother_race_3                int64  \n",
      " 15  mother_race_4                int64  \n",
      " 16  mother_race_5                int64  \n",
      " 17  mother_race_6                int64  \n",
      " 18  father_education_1           int64  \n",
      " 19  father_education_2           int64  \n",
      " 20  father_education_3           int64  \n",
      " 21  father_education_4           int64  \n",
      " 22  father_education_5           int64  \n",
      " 23  father_education_6           int64  \n",
      " 24  father_education_7           int64  \n",
      " 25  father_education_8           int64  \n",
      " 26  father_education_9           int64  \n",
      " 27  previous_cesarean_N          int64  \n",
      " 28  previous_cesarean_U          int64  \n",
      " 29  previous_cesarean_Y          int64  \n",
      " 30  newborn_gender_F             int64  \n",
      " 31  newborn_gender_M             int64  \n",
      "dtypes: float64(7), int64(25)\n",
      "memory usage: 585.5 MB\n"
     ]
    }
   ],
   "source": [
    "d_train.info(verbose=True)"
   ]
  },
  {
   "cell_type": "code",
   "execution_count": null,
   "metadata": {},
   "outputs": [
    {
     "data": {
      "text/html": [
       "<div>\n",
       "<style scoped>\n",
       "    .dataframe tbody tr th:only-of-type {\n",
       "        vertical-align: middle;\n",
       "    }\n",
       "\n",
       "    .dataframe tbody tr th {\n",
       "        vertical-align: top;\n",
       "    }\n",
       "\n",
       "    .dataframe thead th {\n",
       "        text-align: right;\n",
       "    }\n",
       "</style>\n",
       "<table border=\"1\" class=\"dataframe\">\n",
       "  <thead>\n",
       "    <tr style=\"text-align: right;\">\n",
       "      <th></th>\n",
       "      <th>mean</th>\n",
       "      <th>std</th>\n",
       "      <th>min</th>\n",
       "      <th>25%</th>\n",
       "      <th>50%</th>\n",
       "      <th>75%</th>\n",
       "      <th>max</th>\n",
       "    </tr>\n",
       "  </thead>\n",
       "  <tbody>\n",
       "    <tr>\n",
       "      <th>mother_body_mass_index</th>\n",
       "      <td>62.62</td>\n",
       "      <td>7.93</td>\n",
       "      <td>9.45</td>\n",
       "      <td>62.00</td>\n",
       "      <td>64.00</td>\n",
       "      <td>66.00</td>\n",
       "      <td>248.72</td>\n",
       "    </tr>\n",
       "    <tr>\n",
       "      <th>mother_delivery_weight</th>\n",
       "      <td>188.31</td>\n",
       "      <td>41.07</td>\n",
       "      <td>100.00</td>\n",
       "      <td>160.00</td>\n",
       "      <td>182.00</td>\n",
       "      <td>210.00</td>\n",
       "      <td>400.00</td>\n",
       "    </tr>\n",
       "    <tr>\n",
       "      <th>mother_height</th>\n",
       "      <td>64.12</td>\n",
       "      <td>2.82</td>\n",
       "      <td>30.00</td>\n",
       "      <td>62.00</td>\n",
       "      <td>64.00</td>\n",
       "      <td>66.00</td>\n",
       "      <td>83.00</td>\n",
       "    </tr>\n",
       "    <tr>\n",
       "      <th>mother_weight_gain</th>\n",
       "      <td>29.48</td>\n",
       "      <td>14.91</td>\n",
       "      <td>0.00</td>\n",
       "      <td>20.00</td>\n",
       "      <td>29.48</td>\n",
       "      <td>38.00</td>\n",
       "      <td>98.00</td>\n",
       "    </tr>\n",
       "    <tr>\n",
       "      <th>father_age</th>\n",
       "      <td>31.84</td>\n",
       "      <td>6.15</td>\n",
       "      <td>11.00</td>\n",
       "      <td>28.00</td>\n",
       "      <td>32.00</td>\n",
       "      <td>35.00</td>\n",
       "      <td>98.00</td>\n",
       "    </tr>\n",
       "    <tr>\n",
       "      <th>cigarettes_before_pregnancy</th>\n",
       "      <td>1.10</td>\n",
       "      <td>4.72</td>\n",
       "      <td>0.00</td>\n",
       "      <td>0.00</td>\n",
       "      <td>0.00</td>\n",
       "      <td>0.00</td>\n",
       "      <td>98.00</td>\n",
       "    </tr>\n",
       "    <tr>\n",
       "      <th>prenatal_care_month</th>\n",
       "      <td>3.05</td>\n",
       "      <td>1.78</td>\n",
       "      <td>0.00</td>\n",
       "      <td>2.00</td>\n",
       "      <td>3.00</td>\n",
       "      <td>3.00</td>\n",
       "      <td>10.00</td>\n",
       "    </tr>\n",
       "    <tr>\n",
       "      <th>number_prenatal_visits</th>\n",
       "      <td>11.29</td>\n",
       "      <td>4.14</td>\n",
       "      <td>0.00</td>\n",
       "      <td>9.00</td>\n",
       "      <td>11.00</td>\n",
       "      <td>13.00</td>\n",
       "      <td>98.00</td>\n",
       "    </tr>\n",
       "    <tr>\n",
       "      <th>newborn_weight</th>\n",
       "      <td>3261.84</td>\n",
       "      <td>590.47</td>\n",
       "      <td>227.00</td>\n",
       "      <td>2960.00</td>\n",
       "      <td>3300.00</td>\n",
       "      <td>3629.00</td>\n",
       "      <td>8165.00</td>\n",
       "    </tr>\n",
       "    <tr>\n",
       "      <th>mother_marital_status_0.0</th>\n",
       "      <td>0.17</td>\n",
       "      <td>0.38</td>\n",
       "      <td>0.00</td>\n",
       "      <td>0.00</td>\n",
       "      <td>0.00</td>\n",
       "      <td>0.00</td>\n",
       "      <td>1.00</td>\n",
       "    </tr>\n",
       "    <tr>\n",
       "      <th>mother_marital_status_1.0</th>\n",
       "      <td>0.50</td>\n",
       "      <td>0.50</td>\n",
       "      <td>0.00</td>\n",
       "      <td>0.00</td>\n",
       "      <td>0.00</td>\n",
       "      <td>1.00</td>\n",
       "      <td>1.00</td>\n",
       "    </tr>\n",
       "    <tr>\n",
       "      <th>mother_marital_status_2.0</th>\n",
       "      <td>0.33</td>\n",
       "      <td>0.47</td>\n",
       "      <td>0.00</td>\n",
       "      <td>0.00</td>\n",
       "      <td>0.00</td>\n",
       "      <td>1.00</td>\n",
       "      <td>1.00</td>\n",
       "    </tr>\n",
       "    <tr>\n",
       "      <th>mother_race_1</th>\n",
       "      <td>0.74</td>\n",
       "      <td>0.44</td>\n",
       "      <td>0.00</td>\n",
       "      <td>0.00</td>\n",
       "      <td>1.00</td>\n",
       "      <td>1.00</td>\n",
       "      <td>1.00</td>\n",
       "    </tr>\n",
       "    <tr>\n",
       "      <th>mother_race_2</th>\n",
       "      <td>0.16</td>\n",
       "      <td>0.36</td>\n",
       "      <td>0.00</td>\n",
       "      <td>0.00</td>\n",
       "      <td>0.00</td>\n",
       "      <td>0.00</td>\n",
       "      <td>1.00</td>\n",
       "    </tr>\n",
       "    <tr>\n",
       "      <th>mother_race_3</th>\n",
       "      <td>0.01</td>\n",
       "      <td>0.10</td>\n",
       "      <td>0.00</td>\n",
       "      <td>0.00</td>\n",
       "      <td>0.00</td>\n",
       "      <td>0.00</td>\n",
       "      <td>1.00</td>\n",
       "    </tr>\n",
       "    <tr>\n",
       "      <th>mother_race_4</th>\n",
       "      <td>0.07</td>\n",
       "      <td>0.25</td>\n",
       "      <td>0.00</td>\n",
       "      <td>0.00</td>\n",
       "      <td>0.00</td>\n",
       "      <td>0.00</td>\n",
       "      <td>1.00</td>\n",
       "    </tr>\n",
       "    <tr>\n",
       "      <th>mother_race_5</th>\n",
       "      <td>0.00</td>\n",
       "      <td>0.06</td>\n",
       "      <td>0.00</td>\n",
       "      <td>0.00</td>\n",
       "      <td>0.00</td>\n",
       "      <td>0.00</td>\n",
       "      <td>1.00</td>\n",
       "    </tr>\n",
       "    <tr>\n",
       "      <th>mother_race_6</th>\n",
       "      <td>0.03</td>\n",
       "      <td>0.16</td>\n",
       "      <td>0.00</td>\n",
       "      <td>0.00</td>\n",
       "      <td>0.00</td>\n",
       "      <td>0.00</td>\n",
       "      <td>1.00</td>\n",
       "    </tr>\n",
       "    <tr>\n",
       "      <th>father_education_1</th>\n",
       "      <td>0.03</td>\n",
       "      <td>0.18</td>\n",
       "      <td>0.00</td>\n",
       "      <td>0.00</td>\n",
       "      <td>0.00</td>\n",
       "      <td>0.00</td>\n",
       "      <td>1.00</td>\n",
       "    </tr>\n",
       "    <tr>\n",
       "      <th>father_education_2</th>\n",
       "      <td>0.08</td>\n",
       "      <td>0.27</td>\n",
       "      <td>0.00</td>\n",
       "      <td>0.00</td>\n",
       "      <td>0.00</td>\n",
       "      <td>0.00</td>\n",
       "      <td>1.00</td>\n",
       "    </tr>\n",
       "    <tr>\n",
       "      <th>father_education_3</th>\n",
       "      <td>0.26</td>\n",
       "      <td>0.44</td>\n",
       "      <td>0.00</td>\n",
       "      <td>0.00</td>\n",
       "      <td>0.00</td>\n",
       "      <td>1.00</td>\n",
       "      <td>1.00</td>\n",
       "    </tr>\n",
       "    <tr>\n",
       "      <th>father_education_4</th>\n",
       "      <td>0.16</td>\n",
       "      <td>0.37</td>\n",
       "      <td>0.00</td>\n",
       "      <td>0.00</td>\n",
       "      <td>0.00</td>\n",
       "      <td>0.00</td>\n",
       "      <td>1.00</td>\n",
       "    </tr>\n",
       "    <tr>\n",
       "      <th>father_education_5</th>\n",
       "      <td>0.06</td>\n",
       "      <td>0.24</td>\n",
       "      <td>0.00</td>\n",
       "      <td>0.00</td>\n",
       "      <td>0.00</td>\n",
       "      <td>0.00</td>\n",
       "      <td>1.00</td>\n",
       "    </tr>\n",
       "    <tr>\n",
       "      <th>father_education_6</th>\n",
       "      <td>0.17</td>\n",
       "      <td>0.38</td>\n",
       "      <td>0.00</td>\n",
       "      <td>0.00</td>\n",
       "      <td>0.00</td>\n",
       "      <td>0.00</td>\n",
       "      <td>1.00</td>\n",
       "    </tr>\n",
       "    <tr>\n",
       "      <th>father_education_7</th>\n",
       "      <td>0.07</td>\n",
       "      <td>0.25</td>\n",
       "      <td>0.00</td>\n",
       "      <td>0.00</td>\n",
       "      <td>0.00</td>\n",
       "      <td>0.00</td>\n",
       "      <td>1.00</td>\n",
       "    </tr>\n",
       "    <tr>\n",
       "      <th>father_education_8</th>\n",
       "      <td>0.03</td>\n",
       "      <td>0.17</td>\n",
       "      <td>0.00</td>\n",
       "      <td>0.00</td>\n",
       "      <td>0.00</td>\n",
       "      <td>0.00</td>\n",
       "      <td>1.00</td>\n",
       "    </tr>\n",
       "    <tr>\n",
       "      <th>father_education_9</th>\n",
       "      <td>0.14</td>\n",
       "      <td>0.34</td>\n",
       "      <td>0.00</td>\n",
       "      <td>0.00</td>\n",
       "      <td>0.00</td>\n",
       "      <td>0.00</td>\n",
       "      <td>1.00</td>\n",
       "    </tr>\n",
       "    <tr>\n",
       "      <th>previous_cesarean_N</th>\n",
       "      <td>0.84</td>\n",
       "      <td>0.36</td>\n",
       "      <td>0.00</td>\n",
       "      <td>1.00</td>\n",
       "      <td>1.00</td>\n",
       "      <td>1.00</td>\n",
       "      <td>1.00</td>\n",
       "    </tr>\n",
       "    <tr>\n",
       "      <th>previous_cesarean_U</th>\n",
       "      <td>0.00</td>\n",
       "      <td>0.03</td>\n",
       "      <td>0.00</td>\n",
       "      <td>0.00</td>\n",
       "      <td>0.00</td>\n",
       "      <td>0.00</td>\n",
       "      <td>1.00</td>\n",
       "    </tr>\n",
       "    <tr>\n",
       "      <th>previous_cesarean_Y</th>\n",
       "      <td>0.16</td>\n",
       "      <td>0.36</td>\n",
       "      <td>0.00</td>\n",
       "      <td>0.00</td>\n",
       "      <td>0.00</td>\n",
       "      <td>0.00</td>\n",
       "      <td>1.00</td>\n",
       "    </tr>\n",
       "    <tr>\n",
       "      <th>newborn_gender_F</th>\n",
       "      <td>0.49</td>\n",
       "      <td>0.50</td>\n",
       "      <td>0.00</td>\n",
       "      <td>0.00</td>\n",
       "      <td>0.00</td>\n",
       "      <td>1.00</td>\n",
       "      <td>1.00</td>\n",
       "    </tr>\n",
       "    <tr>\n",
       "      <th>newborn_gender_M</th>\n",
       "      <td>0.51</td>\n",
       "      <td>0.50</td>\n",
       "      <td>0.00</td>\n",
       "      <td>0.00</td>\n",
       "      <td>1.00</td>\n",
       "      <td>1.00</td>\n",
       "      <td>1.00</td>\n",
       "    </tr>\n",
       "  </tbody>\n",
       "</table>\n",
       "</div>"
      ],
      "text/plain": [
       "                                            mean                  std   \n",
       "mother_body_mass_index                     62.62                 7.93  \\\n",
       "mother_delivery_weight                    188.31                41.07   \n",
       "mother_height                              64.12                 2.82   \n",
       "mother_weight_gain                         29.48                14.91   \n",
       "father_age                                 31.84                 6.15   \n",
       "cigarettes_before_pregnancy                 1.10                 4.72   \n",
       "prenatal_care_month                         3.05                 1.78   \n",
       "number_prenatal_visits                     11.29                 4.14   \n",
       "newborn_weight                           3261.84               590.47   \n",
       "mother_marital_status_0.0                   0.17                 0.38   \n",
       "mother_marital_status_1.0                   0.50                 0.50   \n",
       "mother_marital_status_2.0                   0.33                 0.47   \n",
       "mother_race_1                               0.74                 0.44   \n",
       "mother_race_2                               0.16                 0.36   \n",
       "mother_race_3                               0.01                 0.10   \n",
       "mother_race_4                               0.07                 0.25   \n",
       "mother_race_5                               0.00                 0.06   \n",
       "mother_race_6                               0.03                 0.16   \n",
       "father_education_1                          0.03                 0.18   \n",
       "father_education_2                          0.08                 0.27   \n",
       "father_education_3                          0.26                 0.44   \n",
       "father_education_4                          0.16                 0.37   \n",
       "father_education_5                          0.06                 0.24   \n",
       "father_education_6                          0.17                 0.38   \n",
       "father_education_7                          0.07                 0.25   \n",
       "father_education_8                          0.03                 0.17   \n",
       "father_education_9                          0.14                 0.34   \n",
       "previous_cesarean_N                         0.84                 0.36   \n",
       "previous_cesarean_U                         0.00                 0.03   \n",
       "previous_cesarean_Y                         0.16                 0.36   \n",
       "newborn_gender_F                            0.49                 0.50   \n",
       "newborn_gender_M                            0.51                 0.50   \n",
       "\n",
       "                                             min                  25%   \n",
       "mother_body_mass_index                      9.45                62.00  \\\n",
       "mother_delivery_weight                    100.00               160.00   \n",
       "mother_height                              30.00                62.00   \n",
       "mother_weight_gain                          0.00                20.00   \n",
       "father_age                                 11.00                28.00   \n",
       "cigarettes_before_pregnancy                 0.00                 0.00   \n",
       "prenatal_care_month                         0.00                 2.00   \n",
       "number_prenatal_visits                      0.00                 9.00   \n",
       "newborn_weight                            227.00              2960.00   \n",
       "mother_marital_status_0.0                   0.00                 0.00   \n",
       "mother_marital_status_1.0                   0.00                 0.00   \n",
       "mother_marital_status_2.0                   0.00                 0.00   \n",
       "mother_race_1                               0.00                 0.00   \n",
       "mother_race_2                               0.00                 0.00   \n",
       "mother_race_3                               0.00                 0.00   \n",
       "mother_race_4                               0.00                 0.00   \n",
       "mother_race_5                               0.00                 0.00   \n",
       "mother_race_6                               0.00                 0.00   \n",
       "father_education_1                          0.00                 0.00   \n",
       "father_education_2                          0.00                 0.00   \n",
       "father_education_3                          0.00                 0.00   \n",
       "father_education_4                          0.00                 0.00   \n",
       "father_education_5                          0.00                 0.00   \n",
       "father_education_6                          0.00                 0.00   \n",
       "father_education_7                          0.00                 0.00   \n",
       "father_education_8                          0.00                 0.00   \n",
       "father_education_9                          0.00                 0.00   \n",
       "previous_cesarean_N                         0.00                 1.00   \n",
       "previous_cesarean_U                         0.00                 0.00   \n",
       "previous_cesarean_Y                         0.00                 0.00   \n",
       "newborn_gender_F                            0.00                 0.00   \n",
       "newborn_gender_M                            0.00                 0.00   \n",
       "\n",
       "                                             50%                  75%   \n",
       "mother_body_mass_index                     64.00                66.00  \\\n",
       "mother_delivery_weight                    182.00               210.00   \n",
       "mother_height                              64.00                66.00   \n",
       "mother_weight_gain                         29.48                38.00   \n",
       "father_age                                 32.00                35.00   \n",
       "cigarettes_before_pregnancy                 0.00                 0.00   \n",
       "prenatal_care_month                         3.00                 3.00   \n",
       "number_prenatal_visits                     11.00                13.00   \n",
       "newborn_weight                           3300.00              3629.00   \n",
       "mother_marital_status_0.0                   0.00                 0.00   \n",
       "mother_marital_status_1.0                   0.00                 1.00   \n",
       "mother_marital_status_2.0                   0.00                 1.00   \n",
       "mother_race_1                               1.00                 1.00   \n",
       "mother_race_2                               0.00                 0.00   \n",
       "mother_race_3                               0.00                 0.00   \n",
       "mother_race_4                               0.00                 0.00   \n",
       "mother_race_5                               0.00                 0.00   \n",
       "mother_race_6                               0.00                 0.00   \n",
       "father_education_1                          0.00                 0.00   \n",
       "father_education_2                          0.00                 0.00   \n",
       "father_education_3                          0.00                 1.00   \n",
       "father_education_4                          0.00                 0.00   \n",
       "father_education_5                          0.00                 0.00   \n",
       "father_education_6                          0.00                 0.00   \n",
       "father_education_7                          0.00                 0.00   \n",
       "father_education_8                          0.00                 0.00   \n",
       "father_education_9                          0.00                 0.00   \n",
       "previous_cesarean_N                         1.00                 1.00   \n",
       "previous_cesarean_U                         0.00                 0.00   \n",
       "previous_cesarean_Y                         0.00                 0.00   \n",
       "newborn_gender_F                            0.00                 1.00   \n",
       "newborn_gender_M                            1.00                 1.00   \n",
       "\n",
       "                                             max  \n",
       "mother_body_mass_index                    248.72  \n",
       "mother_delivery_weight                    400.00  \n",
       "mother_height                              83.00  \n",
       "mother_weight_gain                         98.00  \n",
       "father_age                                 98.00  \n",
       "cigarettes_before_pregnancy                98.00  \n",
       "prenatal_care_month                        10.00  \n",
       "number_prenatal_visits                     98.00  \n",
       "newborn_weight                           8165.00  \n",
       "mother_marital_status_0.0                   1.00  \n",
       "mother_marital_status_1.0                   1.00  \n",
       "mother_marital_status_2.0                   1.00  \n",
       "mother_race_1                               1.00  \n",
       "mother_race_2                               1.00  \n",
       "mother_race_3                               1.00  \n",
       "mother_race_4                               1.00  \n",
       "mother_race_5                               1.00  \n",
       "mother_race_6                               1.00  \n",
       "father_education_1                          1.00  \n",
       "father_education_2                          1.00  \n",
       "father_education_3                          1.00  \n",
       "father_education_4                          1.00  \n",
       "father_education_5                          1.00  \n",
       "father_education_6                          1.00  \n",
       "father_education_7                          1.00  \n",
       "father_education_8                          1.00  \n",
       "father_education_9                          1.00  \n",
       "previous_cesarean_N                         1.00  \n",
       "previous_cesarean_U                         1.00  \n",
       "previous_cesarean_Y                         1.00  \n",
       "newborn_gender_F                            1.00  \n",
       "newborn_gender_M                            1.00  "
      ]
     },
     "execution_count": 156,
     "metadata": {},
     "output_type": "execute_result"
    }
   ],
   "source": [
    "d_train.describe().transpose().drop('count', axis=1)"
   ]
  },
  {
   "attachments": {},
   "cell_type": "markdown",
   "metadata": {},
   "source": [
    "There are several concerning observations resulting from the above analysis, which we should inspect closely. "
   ]
  },
  {
   "attachments": {},
   "cell_type": "markdown",
   "metadata": {},
   "source": [
    "First alarming observations concern the BMI of the mother. While inspecting sources like NSH inform (https://www.nhsinform.scot/healthy-living/food-and-nutrition/healthy-eating-and-weight-loss/body-mass-index-bmi#:~:text=BMI%20ranges&text=between%2018.5%20and%2024.9%20%E2%80%93%20This,is%20described%20as%20severe%20obesity), it could be concluded that the BMI of 70, which is the maximum in our database is way unrealistic. Hovewer, when comparing it to the potential height and weight of the mother, assuming the maximum weight and the 75% Quantile height, we arrive at a conclusion that this could indeed be a possible record, as the BMI in such case is around 69. Nevertheless, considering the amount of data we have, we are inspecting this as a possible outlier issue."
   ]
  },
  {
   "cell_type": "code",
   "execution_count": null,
   "metadata": {},
   "outputs": [
    {
     "name": "stdout",
     "output_type": "stream",
     "text": [
      "BMI:  69.2\n"
     ]
    }
   ],
   "source": [
    "print(\"BMI: \", round(200/(1.70)**2,2))"
   ]
  },
  {
   "cell_type": "code",
   "execution_count": null,
   "metadata": {},
   "outputs": [
    {
     "data": {
      "image/png": "[encoded data removed]",
      "text/plain": [
       "<Figure size 1600x1200 with 8 Axes>"
      ]
     },
     "metadata": {},
     "output_type": "display_data"
    }
   ],
   "source": [
    "fig, axes = plt.subplots(4, 2, figsize=(16, 12))\n",
    "for ax, v in zip(axes.flat, ['mother_body_mass_index', 'mother_weight_gain', \n",
    "                             'father_age', 'cigarettes_before_pregnancy', 'prenatal_care_month', 'number_prenatal_visits', 'mother_height', 'mother_delivery_weight']):\n",
    "    sns.boxplot(d_train[v], ax=ax)\n",
    "    ax.set(ylabel=\"Count\");"
   ]
  },
  {
   "cell_type": "code",
   "execution_count": null,
   "metadata": {},
   "outputs": [
    {
     "data": {
      "image/png": "[encoded data removed]",
      "text/plain": [
       "<Figure size 1600x1200 with 8 Axes>"
      ]
     },
     "metadata": {},
     "output_type": "display_data"
    }
   ],
   "source": [
    "fig, axes = plt.subplots(4, 2, figsize=(16, 12))\n",
    "for ax, v in zip(axes.flat, ['mother_body_mass_index', 'mother_weight_gain', \n",
    "                             'father_age', 'cigarettes_before_pregnancy', 'prenatal_care_month', 'number_prenatal_visits', 'mother_height', 'mother_delivery_weight']):\n",
    "    sns.histplot(d_train[v], kde=False, ax=ax)\n",
    "    ax.set(ylabel=\"Count\");"
   ]
  },
  {
   "attachments": {},
   "cell_type": "markdown",
   "metadata": {},
   "source": [
    "According to the intuition, the alarming variables indeed do contain a significant amount of outliers, especially 'cigarettes_before_pregnancy'. The variables we split as dummy variables are also sometimes heavily unbalanced, as is apparent from their mean values."
   ]
  },
  {
   "attachments": {},
   "cell_type": "markdown",
   "metadata": {},
   "source": [
    "### Correlation"
   ]
  },
  {
   "cell_type": "code",
   "execution_count": null,
   "metadata": {},
   "outputs": [
    {
     "data": {
      "text/plain": [
       "<Axes: >"
      ]
     },
     "execution_count": 160,
     "metadata": {},
     "output_type": "execute_result"
    },
    {
     "data": {
      "image/png": "[encoded data removed]",
      "text/plain": [
       "<Figure size 1600x1200 with 2 Axes>"
      ]
     },
     "metadata": {},
     "output_type": "display_data"
    }
   ],
   "source": [
    "fig, ax = plt.subplots(figsize=(16,12))\n",
    "sns.heatmap(d_train.corr(), ax=ax, )"
   ]
  },
  {
   "attachments": {},
   "cell_type": "markdown",
   "metadata": {},
   "source": [
    "### Feature engineering"
   ]
  },
  {
   "attachments": {},
   "cell_type": "markdown",
   "metadata": {},
   "source": [
    "There are no highly correlated variables, among the ones that have not been one-hot encoded. We will implement a few interactions between most correlated variables to boost its importance and hopefully the models accuracy."
   ]
  },
  {
   "cell_type": "code",
   "execution_count": null,
   "metadata": {},
   "outputs": [],
   "source": [
    "#for i in ['mother_delivery_weight', 'other']: <-- polynomial for important variables\n",
    "#    dataset[i + \"_px\"] = dataset[i] ** x\n",
    "#    dataset[i + \"_px\"] = dataset[i] ** x\n",
    "\n",
    "d_train['mother_height+deli_weight'] = d_train['mother_height'] * d_train['mother_delivery_weight']\n",
    "\n",
    "d_train['mother_weight_gain+bmi'] = d_train['mother_weight_gain'] * d_train['mother_body_mass_index']\n",
    "\n",
    "d_train['mother_deli_weight+bmi'] = d_train['mother_delivery_weight'] * d_train['mother_body_mass_index']\n",
    "\n",
    "d_test['mother_height+deli_weight'] = d_test['mother_height'] * d_test['mother_delivery_weight']\n",
    "\n",
    "d_test['mother_weight_gain+bmi'] = d_test['mother_weight_gain'] * d_test['mother_body_mass_index']\n",
    "\n",
    "d_test['mother_deli_weight+bmi'] = d_test['mother_delivery_weight'] * d_test['mother_body_mass_index']"
   ]
  },
  {
   "cell_type": "code",
   "execution_count": null,
   "metadata": {},
   "outputs": [
    {
     "data": {
      "text/html": [
       "<div>\n",
       "<style scoped>\n",
       "    .dataframe tbody tr th:only-of-type {\n",
       "        vertical-align: middle;\n",
       "    }\n",
       "\n",
       "    .dataframe tbody tr th {\n",
       "        vertical-align: top;\n",
       "    }\n",
       "\n",
       "    .dataframe thead th {\n",
       "        text-align: right;\n",
       "    }\n",
       "</style>\n",
       "<table border=\"1\" class=\"dataframe\">\n",
       "  <thead>\n",
       "    <tr style=\"text-align: right;\">\n",
       "      <th></th>\n",
       "      <th>mean</th>\n",
       "      <th>std</th>\n",
       "      <th>min</th>\n",
       "      <th>25%</th>\n",
       "      <th>50%</th>\n",
       "      <th>75%</th>\n",
       "      <th>max</th>\n",
       "    </tr>\n",
       "  </thead>\n",
       "  <tbody>\n",
       "    <tr>\n",
       "      <th>mother_body_mass_index</th>\n",
       "      <td>62.62</td>\n",
       "      <td>7.93</td>\n",
       "      <td>9.45</td>\n",
       "      <td>62.00</td>\n",
       "      <td>64.00</td>\n",
       "      <td>66.00</td>\n",
       "      <td>248.72</td>\n",
       "    </tr>\n",
       "    <tr>\n",
       "      <th>mother_delivery_weight</th>\n",
       "      <td>188.31</td>\n",
       "      <td>41.07</td>\n",
       "      <td>100.00</td>\n",
       "      <td>160.00</td>\n",
       "      <td>182.00</td>\n",
       "      <td>210.00</td>\n",
       "      <td>400.00</td>\n",
       "    </tr>\n",
       "    <tr>\n",
       "      <th>mother_height</th>\n",
       "      <td>64.12</td>\n",
       "      <td>2.82</td>\n",
       "      <td>30.00</td>\n",
       "      <td>62.00</td>\n",
       "      <td>64.00</td>\n",
       "      <td>66.00</td>\n",
       "      <td>83.00</td>\n",
       "    </tr>\n",
       "    <tr>\n",
       "      <th>mother_weight_gain</th>\n",
       "      <td>29.48</td>\n",
       "      <td>14.91</td>\n",
       "      <td>0.00</td>\n",
       "      <td>20.00</td>\n",
       "      <td>29.48</td>\n",
       "      <td>38.00</td>\n",
       "      <td>98.00</td>\n",
       "    </tr>\n",
       "    <tr>\n",
       "      <th>father_age</th>\n",
       "      <td>31.84</td>\n",
       "      <td>6.15</td>\n",
       "      <td>11.00</td>\n",
       "      <td>28.00</td>\n",
       "      <td>32.00</td>\n",
       "      <td>35.00</td>\n",
       "      <td>98.00</td>\n",
       "    </tr>\n",
       "    <tr>\n",
       "      <th>cigarettes_before_pregnancy</th>\n",
       "      <td>1.10</td>\n",
       "      <td>4.72</td>\n",
       "      <td>0.00</td>\n",
       "      <td>0.00</td>\n",
       "      <td>0.00</td>\n",
       "      <td>0.00</td>\n",
       "      <td>98.00</td>\n",
       "    </tr>\n",
       "    <tr>\n",
       "      <th>prenatal_care_month</th>\n",
       "      <td>3.05</td>\n",
       "      <td>1.78</td>\n",
       "      <td>0.00</td>\n",
       "      <td>2.00</td>\n",
       "      <td>3.00</td>\n",
       "      <td>3.00</td>\n",
       "      <td>10.00</td>\n",
       "    </tr>\n",
       "    <tr>\n",
       "      <th>number_prenatal_visits</th>\n",
       "      <td>11.29</td>\n",
       "      <td>4.14</td>\n",
       "      <td>0.00</td>\n",
       "      <td>9.00</td>\n",
       "      <td>11.00</td>\n",
       "      <td>13.00</td>\n",
       "      <td>98.00</td>\n",
       "    </tr>\n",
       "    <tr>\n",
       "      <th>newborn_weight</th>\n",
       "      <td>3261.84</td>\n",
       "      <td>590.47</td>\n",
       "      <td>227.00</td>\n",
       "      <td>2960.00</td>\n",
       "      <td>3300.00</td>\n",
       "      <td>3629.00</td>\n",
       "      <td>8165.00</td>\n",
       "    </tr>\n",
       "    <tr>\n",
       "      <th>mother_marital_status_0.0</th>\n",
       "      <td>0.17</td>\n",
       "      <td>0.38</td>\n",
       "      <td>0.00</td>\n",
       "      <td>0.00</td>\n",
       "      <td>0.00</td>\n",
       "      <td>0.00</td>\n",
       "      <td>1.00</td>\n",
       "    </tr>\n",
       "    <tr>\n",
       "      <th>mother_marital_status_1.0</th>\n",
       "      <td>0.50</td>\n",
       "      <td>0.50</td>\n",
       "      <td>0.00</td>\n",
       "      <td>0.00</td>\n",
       "      <td>0.00</td>\n",
       "      <td>1.00</td>\n",
       "      <td>1.00</td>\n",
       "    </tr>\n",
       "    <tr>\n",
       "      <th>mother_marital_status_2.0</th>\n",
       "      <td>0.33</td>\n",
       "      <td>0.47</td>\n",
       "      <td>0.00</td>\n",
       "      <td>0.00</td>\n",
       "      <td>0.00</td>\n",
       "      <td>1.00</td>\n",
       "      <td>1.00</td>\n",
       "    </tr>\n",
       "    <tr>\n",
       "      <th>mother_race_1</th>\n",
       "      <td>0.74</td>\n",
       "      <td>0.44</td>\n",
       "      <td>0.00</td>\n",
       "      <td>0.00</td>\n",
       "      <td>1.00</td>\n",
       "      <td>1.00</td>\n",
       "      <td>1.00</td>\n",
       "    </tr>\n",
       "    <tr>\n",
       "      <th>mother_race_2</th>\n",
       "      <td>0.16</td>\n",
       "      <td>0.36</td>\n",
       "      <td>0.00</td>\n",
       "      <td>0.00</td>\n",
       "      <td>0.00</td>\n",
       "      <td>0.00</td>\n",
       "      <td>1.00</td>\n",
       "    </tr>\n",
       "    <tr>\n",
       "      <th>mother_race_3</th>\n",
       "      <td>0.01</td>\n",
       "      <td>0.10</td>\n",
       "      <td>0.00</td>\n",
       "      <td>0.00</td>\n",
       "      <td>0.00</td>\n",
       "      <td>0.00</td>\n",
       "      <td>1.00</td>\n",
       "    </tr>\n",
       "    <tr>\n",
       "      <th>mother_race_4</th>\n",
       "      <td>0.07</td>\n",
       "      <td>0.25</td>\n",
       "      <td>0.00</td>\n",
       "      <td>0.00</td>\n",
       "      <td>0.00</td>\n",
       "      <td>0.00</td>\n",
       "      <td>1.00</td>\n",
       "    </tr>\n",
       "    <tr>\n",
       "      <th>mother_race_5</th>\n",
       "      <td>0.00</td>\n",
       "      <td>0.06</td>\n",
       "      <td>0.00</td>\n",
       "      <td>0.00</td>\n",
       "      <td>0.00</td>\n",
       "      <td>0.00</td>\n",
       "      <td>1.00</td>\n",
       "    </tr>\n",
       "    <tr>\n",
       "      <th>mother_race_6</th>\n",
       "      <td>0.03</td>\n",
       "      <td>0.16</td>\n",
       "      <td>0.00</td>\n",
       "      <td>0.00</td>\n",
       "      <td>0.00</td>\n",
       "      <td>0.00</td>\n",
       "      <td>1.00</td>\n",
       "    </tr>\n",
       "    <tr>\n",
       "      <th>father_education_1</th>\n",
       "      <td>0.03</td>\n",
       "      <td>0.18</td>\n",
       "      <td>0.00</td>\n",
       "      <td>0.00</td>\n",
       "      <td>0.00</td>\n",
       "      <td>0.00</td>\n",
       "      <td>1.00</td>\n",
       "    </tr>\n",
       "    <tr>\n",
       "      <th>father_education_2</th>\n",
       "      <td>0.08</td>\n",
       "      <td>0.27</td>\n",
       "      <td>0.00</td>\n",
       "      <td>0.00</td>\n",
       "      <td>0.00</td>\n",
       "      <td>0.00</td>\n",
       "      <td>1.00</td>\n",
       "    </tr>\n",
       "    <tr>\n",
       "      <th>father_education_3</th>\n",
       "      <td>0.26</td>\n",
       "      <td>0.44</td>\n",
       "      <td>0.00</td>\n",
       "      <td>0.00</td>\n",
       "      <td>0.00</td>\n",
       "      <td>1.00</td>\n",
       "      <td>1.00</td>\n",
       "    </tr>\n",
       "    <tr>\n",
       "      <th>father_education_4</th>\n",
       "      <td>0.16</td>\n",
       "      <td>0.37</td>\n",
       "      <td>0.00</td>\n",
       "      <td>0.00</td>\n",
       "      <td>0.00</td>\n",
       "      <td>0.00</td>\n",
       "      <td>1.00</td>\n",
       "    </tr>\n",
       "    <tr>\n",
       "      <th>father_education_5</th>\n",
       "      <td>0.06</td>\n",
       "      <td>0.24</td>\n",
       "      <td>0.00</td>\n",
       "      <td>0.00</td>\n",
       "      <td>0.00</td>\n",
       "      <td>0.00</td>\n",
       "      <td>1.00</td>\n",
       "    </tr>\n",
       "    <tr>\n",
       "      <th>father_education_6</th>\n",
       "      <td>0.17</td>\n",
       "      <td>0.38</td>\n",
       "      <td>0.00</td>\n",
       "      <td>0.00</td>\n",
       "      <td>0.00</td>\n",
       "      <td>0.00</td>\n",
       "      <td>1.00</td>\n",
       "    </tr>\n",
       "    <tr>\n",
       "      <th>father_education_7</th>\n",
       "      <td>0.07</td>\n",
       "      <td>0.25</td>\n",
       "      <td>0.00</td>\n",
       "      <td>0.00</td>\n",
       "      <td>0.00</td>\n",
       "      <td>0.00</td>\n",
       "      <td>1.00</td>\n",
       "    </tr>\n",
       "    <tr>\n",
       "      <th>father_education_8</th>\n",
       "      <td>0.03</td>\n",
       "      <td>0.17</td>\n",
       "      <td>0.00</td>\n",
       "      <td>0.00</td>\n",
       "      <td>0.00</td>\n",
       "      <td>0.00</td>\n",
       "      <td>1.00</td>\n",
       "    </tr>\n",
       "    <tr>\n",
       "      <th>father_education_9</th>\n",
       "      <td>0.14</td>\n",
       "      <td>0.34</td>\n",
       "      <td>0.00</td>\n",
       "      <td>0.00</td>\n",
       "      <td>0.00</td>\n",
       "      <td>0.00</td>\n",
       "      <td>1.00</td>\n",
       "    </tr>\n",
       "    <tr>\n",
       "      <th>previous_cesarean_N</th>\n",
       "      <td>0.84</td>\n",
       "      <td>0.36</td>\n",
       "      <td>0.00</td>\n",
       "      <td>1.00</td>\n",
       "      <td>1.00</td>\n",
       "      <td>1.00</td>\n",
       "      <td>1.00</td>\n",
       "    </tr>\n",
       "    <tr>\n",
       "      <th>previous_cesarean_U</th>\n",
       "      <td>0.00</td>\n",
       "      <td>0.03</td>\n",
       "      <td>0.00</td>\n",
       "      <td>0.00</td>\n",
       "      <td>0.00</td>\n",
       "      <td>0.00</td>\n",
       "      <td>1.00</td>\n",
       "    </tr>\n",
       "    <tr>\n",
       "      <th>previous_cesarean_Y</th>\n",
       "      <td>0.16</td>\n",
       "      <td>0.36</td>\n",
       "      <td>0.00</td>\n",
       "      <td>0.00</td>\n",
       "      <td>0.00</td>\n",
       "      <td>0.00</td>\n",
       "      <td>1.00</td>\n",
       "    </tr>\n",
       "    <tr>\n",
       "      <th>newborn_gender_F</th>\n",
       "      <td>0.49</td>\n",
       "      <td>0.50</td>\n",
       "      <td>0.00</td>\n",
       "      <td>0.00</td>\n",
       "      <td>0.00</td>\n",
       "      <td>1.00</td>\n",
       "      <td>1.00</td>\n",
       "    </tr>\n",
       "    <tr>\n",
       "      <th>newborn_gender_M</th>\n",
       "      <td>0.51</td>\n",
       "      <td>0.50</td>\n",
       "      <td>0.00</td>\n",
       "      <td>0.00</td>\n",
       "      <td>1.00</td>\n",
       "      <td>1.00</td>\n",
       "      <td>1.00</td>\n",
       "    </tr>\n",
       "    <tr>\n",
       "      <th>mother_height+deli_weight</th>\n",
       "      <td>12115.22</td>\n",
       "      <td>2889.30</td>\n",
       "      <td>3600.00</td>\n",
       "      <td>10080.00</td>\n",
       "      <td>11656.00</td>\n",
       "      <td>13601.00</td>\n",
       "      <td>31200.00</td>\n",
       "    </tr>\n",
       "    <tr>\n",
       "      <th>mother_weight_gain+bmi</th>\n",
       "      <td>1850.54</td>\n",
       "      <td>983.97</td>\n",
       "      <td>0.00</td>\n",
       "      <td>1200.00</td>\n",
       "      <td>1827.76</td>\n",
       "      <td>2405.00</td>\n",
       "      <td>8036.00</td>\n",
       "    </tr>\n",
       "    <tr>\n",
       "      <th>mother_deli_weight+bmi</th>\n",
       "      <td>11842.42</td>\n",
       "      <td>3176.74</td>\n",
       "      <td>1020.10</td>\n",
       "      <td>9900.00</td>\n",
       "      <td>11529.00</td>\n",
       "      <td>13510.00</td>\n",
       "      <td>88544.32</td>\n",
       "    </tr>\n",
       "  </tbody>\n",
       "</table>\n",
       "</div>"
      ],
      "text/plain": [
       "                                            mean                  std   \n",
       "mother_body_mass_index                     62.62                 7.93  \\\n",
       "mother_delivery_weight                    188.31                41.07   \n",
       "mother_height                              64.12                 2.82   \n",
       "mother_weight_gain                         29.48                14.91   \n",
       "father_age                                 31.84                 6.15   \n",
       "cigarettes_before_pregnancy                 1.10                 4.72   \n",
       "prenatal_care_month                         3.05                 1.78   \n",
       "number_prenatal_visits                     11.29                 4.14   \n",
       "newborn_weight                           3261.84               590.47   \n",
       "mother_marital_status_0.0                   0.17                 0.38   \n",
       "mother_marital_status_1.0                   0.50                 0.50   \n",
       "mother_marital_status_2.0                   0.33                 0.47   \n",
       "mother_race_1                               0.74                 0.44   \n",
       "mother_race_2                               0.16                 0.36   \n",
       "mother_race_3                               0.01                 0.10   \n",
       "mother_race_4                               0.07                 0.25   \n",
       "mother_race_5                               0.00                 0.06   \n",
       "mother_race_6                               0.03                 0.16   \n",
       "father_education_1                          0.03                 0.18   \n",
       "father_education_2                          0.08                 0.27   \n",
       "father_education_3                          0.26                 0.44   \n",
       "father_education_4                          0.16                 0.37   \n",
       "father_education_5                          0.06                 0.24   \n",
       "father_education_6                          0.17                 0.38   \n",
       "father_education_7                          0.07                 0.25   \n",
       "father_education_8                          0.03                 0.17   \n",
       "father_education_9                          0.14                 0.34   \n",
       "previous_cesarean_N                         0.84                 0.36   \n",
       "previous_cesarean_U                         0.00                 0.03   \n",
       "previous_cesarean_Y                         0.16                 0.36   \n",
       "newborn_gender_F                            0.49                 0.50   \n",
       "newborn_gender_M                            0.51                 0.50   \n",
       "mother_height+deli_weight               12115.22              2889.30   \n",
       "mother_weight_gain+bmi                   1850.54               983.97   \n",
       "mother_deli_weight+bmi                  11842.42              3176.74   \n",
       "\n",
       "                                             min                  25%   \n",
       "mother_body_mass_index                      9.45                62.00  \\\n",
       "mother_delivery_weight                    100.00               160.00   \n",
       "mother_height                              30.00                62.00   \n",
       "mother_weight_gain                          0.00                20.00   \n",
       "father_age                                 11.00                28.00   \n",
       "cigarettes_before_pregnancy                 0.00                 0.00   \n",
       "prenatal_care_month                         0.00                 2.00   \n",
       "number_prenatal_visits                      0.00                 9.00   \n",
       "newborn_weight                            227.00              2960.00   \n",
       "mother_marital_status_0.0                   0.00                 0.00   \n",
       "mother_marital_status_1.0                   0.00                 0.00   \n",
       "mother_marital_status_2.0                   0.00                 0.00   \n",
       "mother_race_1                               0.00                 0.00   \n",
       "mother_race_2                               0.00                 0.00   \n",
       "mother_race_3                               0.00                 0.00   \n",
       "mother_race_4                               0.00                 0.00   \n",
       "mother_race_5                               0.00                 0.00   \n",
       "mother_race_6                               0.00                 0.00   \n",
       "father_education_1                          0.00                 0.00   \n",
       "father_education_2                          0.00                 0.00   \n",
       "father_education_3                          0.00                 0.00   \n",
       "father_education_4                          0.00                 0.00   \n",
       "father_education_5                          0.00                 0.00   \n",
       "father_education_6                          0.00                 0.00   \n",
       "father_education_7                          0.00                 0.00   \n",
       "father_education_8                          0.00                 0.00   \n",
       "father_education_9                          0.00                 0.00   \n",
       "previous_cesarean_N                         0.00                 1.00   \n",
       "previous_cesarean_U                         0.00                 0.00   \n",
       "previous_cesarean_Y                         0.00                 0.00   \n",
       "newborn_gender_F                            0.00                 0.00   \n",
       "newborn_gender_M                            0.00                 0.00   \n",
       "mother_height+deli_weight                3600.00             10080.00   \n",
       "mother_weight_gain+bmi                      0.00              1200.00   \n",
       "mother_deli_weight+bmi                   1020.10              9900.00   \n",
       "\n",
       "                                             50%                  75%   \n",
       "mother_body_mass_index                     64.00                66.00  \\\n",
       "mother_delivery_weight                    182.00               210.00   \n",
       "mother_height                              64.00                66.00   \n",
       "mother_weight_gain                         29.48                38.00   \n",
       "father_age                                 32.00                35.00   \n",
       "cigarettes_before_pregnancy                 0.00                 0.00   \n",
       "prenatal_care_month                         3.00                 3.00   \n",
       "number_prenatal_visits                     11.00                13.00   \n",
       "newborn_weight                           3300.00              3629.00   \n",
       "mother_marital_status_0.0                   0.00                 0.00   \n",
       "mother_marital_status_1.0                   0.00                 1.00   \n",
       "mother_marital_status_2.0                   0.00                 1.00   \n",
       "mother_race_1                               1.00                 1.00   \n",
       "mother_race_2                               0.00                 0.00   \n",
       "mother_race_3                               0.00                 0.00   \n",
       "mother_race_4                               0.00                 0.00   \n",
       "mother_race_5                               0.00                 0.00   \n",
       "mother_race_6                               0.00                 0.00   \n",
       "father_education_1                          0.00                 0.00   \n",
       "father_education_2                          0.00                 0.00   \n",
       "father_education_3                          0.00                 1.00   \n",
       "father_education_4                          0.00                 0.00   \n",
       "father_education_5                          0.00                 0.00   \n",
       "father_education_6                          0.00                 0.00   \n",
       "father_education_7                          0.00                 0.00   \n",
       "father_education_8                          0.00                 0.00   \n",
       "father_education_9                          0.00                 0.00   \n",
       "previous_cesarean_N                         1.00                 1.00   \n",
       "previous_cesarean_U                         0.00                 0.00   \n",
       "previous_cesarean_Y                         0.00                 0.00   \n",
       "newborn_gender_F                            0.00                 1.00   \n",
       "newborn_gender_M                            1.00                 1.00   \n",
       "mother_height+deli_weight               11656.00             13601.00   \n",
       "mother_weight_gain+bmi                   1827.76              2405.00   \n",
       "mother_deli_weight+bmi                  11529.00             13510.00   \n",
       "\n",
       "                                             max  \n",
       "mother_body_mass_index                    248.72  \n",
       "mother_delivery_weight                    400.00  \n",
       "mother_height                              83.00  \n",
       "mother_weight_gain                         98.00  \n",
       "father_age                                 98.00  \n",
       "cigarettes_before_pregnancy                98.00  \n",
       "prenatal_care_month                        10.00  \n",
       "number_prenatal_visits                     98.00  \n",
       "newborn_weight                           8165.00  \n",
       "mother_marital_status_0.0                   1.00  \n",
       "mother_marital_status_1.0                   1.00  \n",
       "mother_marital_status_2.0                   1.00  \n",
       "mother_race_1                               1.00  \n",
       "mother_race_2                               1.00  \n",
       "mother_race_3                               1.00  \n",
       "mother_race_4                               1.00  \n",
       "mother_race_5                               1.00  \n",
       "mother_race_6                               1.00  \n",
       "father_education_1                          1.00  \n",
       "father_education_2                          1.00  \n",
       "father_education_3                          1.00  \n",
       "father_education_4                          1.00  \n",
       "father_education_5                          1.00  \n",
       "father_education_6                          1.00  \n",
       "father_education_7                          1.00  \n",
       "father_education_8                          1.00  \n",
       "father_education_9                          1.00  \n",
       "previous_cesarean_N                         1.00  \n",
       "previous_cesarean_U                         1.00  \n",
       "previous_cesarean_Y                         1.00  \n",
       "newborn_gender_F                            1.00  \n",
       "newborn_gender_M                            1.00  \n",
       "mother_height+deli_weight               31200.00  \n",
       "mother_weight_gain+bmi                   8036.00  \n",
       "mother_deli_weight+bmi                  88544.32  "
      ]
     },
     "execution_count": 162,
     "metadata": {},
     "output_type": "execute_result"
    }
   ],
   "source": [
    "d_train.describe().transpose().drop('count', axis=1)"
   ]
  },
  {
   "attachments": {},
   "cell_type": "markdown",
   "metadata": {},
   "source": [
    "# Modelling\n",
    "\n",
    "\n",
    "TUTAJ NARAZIE KOD DO PRZYGOTOWANIA TYCH MODELI, MUSIMY ZDECYDOWAC JAK PODZIELIC NA TEST - TRAIN, ALBO DOPYTAC JAK LUDZIE ROBILI, ZEBY BYLO UNIFORM"
   ]
  },
  {
   "cell_type": "code",
   "execution_count": null,
   "metadata": {},
   "outputs": [],
   "source": [
    "y_train = d_train['newborn_weight']\n",
    "x_train = d_train.drop('newborn_weight', axis=1)\n",
    "\n",
    "x_test = d_test"
   ]
  },
  {
   "cell_type": "code",
   "execution_count": null,
   "metadata": {},
   "outputs": [],
   "source": [
    "#from imblearn.over_sampling import SMOTE"
   ]
  },
  {
   "cell_type": "code",
   "execution_count": null,
   "metadata": {},
   "outputs": [],
   "source": [
    "#smote = SMOTE()"
   ]
  },
  {
   "cell_type": "code",
   "execution_count": null,
   "metadata": {},
   "outputs": [],
   "source": [
    "#x_smote, y_smote = smote.fit_resample(x_train, y_train)"
   ]
  },
  {
   "cell_type": "code",
   "execution_count": null,
   "metadata": {},
   "outputs": [],
   "source": [
    "sc = StandardScaler()\n",
    "\n",
    "x_train = sc.fit_transform(x_train)\n",
    "x_test = sc.fit_transform(x_test)"
   ]
  },
  {
   "attachments": {},
   "cell_type": "markdown",
   "metadata": {},
   "source": [
    "## Decision tree"
   ]
  },
  {
   "cell_type": "code",
   "execution_count": null,
   "metadata": {},
   "outputs": [],
   "source": [
    "#model = DecisionTreeRegressor(max_depth=14, min_samples_split=5, max_features=20)"
   ]
  },
  {
   "cell_type": "code",
   "execution_count": null,
   "metadata": {},
   "outputs": [],
   "source": [
    "#parameter_space = {\n",
    "#    \"max_depth\": [7, 15],\n",
    "#    \"min_samples_split\": [5, 10],\n",
    "#    \"max_features\": [30, 45]\n",
    "#}\n",
    "\n",
    "#clf = GridSearchCV(DecisionTreeRegressor(), parameter_space, cv=4, \n",
    "#                   scoring=\"neg_mean_absolute_error\")\n",
    "\n",
    "#clf.fit(x_train, y_train)\n"
   ]
  },
  {
   "cell_type": "code",
   "execution_count": null,
   "metadata": {},
   "outputs": [],
   "source": [
    "#clf = RandomizedSearchCV(DecisionTreeRegressor(), parameter_space, cv=4, \n",
    "#                         scoring=\"neg_mean_absolute_error\", n_iter=100)\n",
    "\n",
    "#clf.fit(x_train, y_train)"
   ]
  },
  {
   "attachments": {},
   "cell_type": "markdown",
   "metadata": {},
   "source": [
    "## Models\n",
    "\n",
    "To decide which (min 3)"
   ]
  },
  {
   "attachments": {},
   "cell_type": "markdown",
   "metadata": {},
   "source": [
    "### Linear regression # test"
   ]
  },
  {
   "cell_type": "code",
   "execution_count": null,
   "metadata": {},
   "outputs": [],
   "source": [
    "from sklearn.model_selection import train_test_split\n",
    "\n",
    "x = d_train.drop('newborn_weight', axis=1)\n",
    "y = d_train['newborn_weight']\n",
    "\n",
    "x_train_x, x_val, y_train_y, y_val = train_test_split(x, y, test_size=0.2, random_state=42)"
   ]
  },
  {
   "cell_type": "code",
   "execution_count": null,
   "metadata": {},
   "outputs": [
    {
     "name": "stdout",
     "output_type": "stream",
     "text": [
      "Mean squared error (MSE):  311441.17908954987\n"
     ]
    }
   ],
   "source": [
    "from sklearn.linear_model import LinearRegression\n",
    "from sklearn.metrics import mean_squared_error\n",
    "\n",
    "model_LR = LinearRegression()\n",
    "\n",
    "model_LR.fit(x_train_x, y_train_y)\n",
    "\n",
    "y_pred = model_LR.predict(x_val)\n",
    "\n",
    "mse = mean_squared_error(y_val, y_pred)\n",
    "\n",
    "print('Mean squared error (MSE): ', mse)"
   ]
  },
  {
   "cell_type": "code",
   "execution_count": null,
   "metadata": {},
   "outputs": [
    {
     "name": "stdout",
     "output_type": "stream",
     "text": [
      "MAPE:  16.20075777383479\n"
     ]
    }
   ],
   "source": [
    "def mape_calc(y_true, y_pred):\n",
    "    return np.mean(np.abs((y_true - y_pred)/y_true))*100\n",
    "\n",
    "mape = mape_calc (y_val, y_pred)\n",
    "\n",
    "print('MAPE: ', mape)"
   ]
  },
  {
   "attachments": {},
   "cell_type": "markdown",
   "metadata": {},
   "source": [
    "### Ridge"
   ]
  },
  {
   "cell_type": "code",
   "execution_count": null,
   "metadata": {},
   "outputs": [],
   "source": [
    "from sklearn.model_selection import GridSearchCV\n",
    "from sklearn.linear_model import Ridge"
   ]
  },
  {
   "cell_type": "code",
   "execution_count": null,
   "metadata": {},
   "outputs": [],
   "source": [
    "Ridge(alpha=1.0, fit_intercept=True, normalize=False, copy_X=True, \n",
    "      max_iter=None, tol=0.001, solver='auto', random_state=None)"
   ]
  },
  {
   "cell_type": "code",
   "execution_count": null,
   "metadata": {},
   "outputs": [],
   "source": [
    "#parameter_space = {\n",
    "#    \"alpha\": [1, 10, 100, 290, 500],\n",
    "#    \"fit_intercept\": [True, False],\n",
    "#    \"solver\": ['svd', 'cholesky', 'lsqr', 'sparse_cg', 'sag', 'saga'],\n",
    "#}\n",
    "\n",
    "#clf = GridSearchCV(Ridge(random_state=3), parameter_space, n_jobs=4,\n",
    "#                   cv=3, scoring=\"neg_mean_absolute_error\")\n",
    "\n",
    "#clf.fit(X_train, y_train)\n",
    "#print(\"Best parameters:\")\n",
    "#print(clf.best_params_)"
   ]
  },
  {
   "cell_type": "code",
   "execution_count": null,
   "metadata": {},
   "outputs": [],
   "source": [
    "#ridge_model = Ridge(random_state=3, **clf.best_params_)\n",
    "ridge_model = Ridge(random_state=3)"
   ]
  },
  {
   "cell_type": "code",
   "execution_count": null,
   "metadata": {},
   "outputs": [],
   "source": [
    "ridge_model.fit(x_train_x, y_train_y)"
   ]
  },
  {
   "cell_type": "code",
   "execution_count": null,
   "metadata": {},
   "outputs": [],
   "source": [
    "y_pred_ridge = ridge_model.predict(x_train_x)\n",
    "ridge_mae = mean_absolute_error(y_train_y, y_pred_ridge)\n",
    "print(\"Ridge MAE =\", ridge_mae)"
   ]
  },
  {
   "attachments": {},
   "cell_type": "markdown",
   "metadata": {},
   "source": [
    "### Elastic Net"
   ]
  },
  {
   "cell_type": "code",
   "execution_count": null,
   "metadata": {},
   "outputs": [],
   "source": [
    "from sklearn.linear_model import ElasticNet"
   ]
  },
  {
   "cell_type": "code",
   "execution_count": null,
   "metadata": {},
   "outputs": [],
   "source": [
    "ElasticNet(alpha=1.0, l1_ratio=0.5, fit_intercept=True, normalize=False, \n",
    "           precompute=False, max_iter=1000, copy_X=True, tol=0.0001, \n",
    "           warm_start=False, positive=False, random_state=None, selection='cyclic')"
   ]
  },
  {
   "cell_type": "code",
   "execution_count": null,
   "metadata": {},
   "outputs": [],
   "source": [
    "#parameter_space = {\n",
    "#    \"alpha\": [1, 10, 100, 280, 500],\n",
    "#    \"l1_ratio\": [0.5, 1],\n",
    "#    \"fit_intercept\": [True, False],\n",
    "#}\n",
    "\n",
    "#clf = GridSearchCV(ElasticNet(random_state=3), parameter_space, \n",
    "#                   n_jobs=4, cv=3, scoring=\"neg_mean_absolute_error\")\n",
    "\n",
    "#clf.fit(X_train, y_train)\n",
    "#print(\"Best parameters:\")\n",
    "#print(clf.best_params_)"
   ]
  },
  {
   "cell_type": "code",
   "execution_count": null,
   "metadata": {},
   "outputs": [],
   "source": [
    "#elasticNet_model = ElasticNet(random_state=3, **clf.best_params_)\n",
    "elasticNet_model = ElasticNet(random_state=3)"
   ]
  },
  {
   "cell_type": "code",
   "execution_count": null,
   "metadata": {},
   "outputs": [],
   "source": [
    "elasticNet_model.fit(x_train_x, y_train_y)"
   ]
  },
  {
   "cell_type": "code",
   "execution_count": null,
   "metadata": {},
   "outputs": [],
   "source": [
    "y_pred_ela = elasticNet_model.predict(x_train_x)\n",
    "elasticNet_mae = mean_absolute_error(y_train_y, y_pred_ela)\n",
    "print(\"Elastic Net MAE =\", elasticNet_mae)"
   ]
  },
  {
   "attachments": {},
   "cell_type": "markdown",
   "metadata": {},
   "source": [
    "### SVR"
   ]
  },
  {
   "cell_type": "code",
   "execution_count": null,
   "metadata": {},
   "outputs": [],
   "source": [
    "from sklearn.svm import SVR"
   ]
  },
  {
   "cell_type": "code",
   "execution_count": null,
   "metadata": {},
   "outputs": [
    {
     "data": {
      "text/html": [
       "<style>#sk-container-id-1 {color: black;background-color: white;}#sk-container-id-1 pre{padding: 0;}#sk-container-id-1 div.sk-toggleable {background-color: white;}#sk-container-id-1 label.sk-toggleable__label {cursor: pointer;display: block;width: 100%;margin-bottom: 0;padding: 0.3em;box-sizing: border-box;text-align: center;}#sk-container-id-1 label.sk-toggleable__label-arrow:before {content: \"▸\";float: left;margin-right: 0.25em;color: #696969;}#sk-container-id-1 label.sk-toggleable__label-arrow:hover:before {color: black;}#sk-container-id-1 div.sk-estimator:hover label.sk-toggleable__label-arrow:before {color: black;}#sk-container-id-1 div.sk-toggleable__content {max-height: 0;max-width: 0;overflow: hidden;text-align: left;background-color: #f0f8ff;}#sk-container-id-1 div.sk-toggleable__content pre {margin: 0.2em;color: black;border-radius: 0.25em;background-color: #f0f8ff;}#sk-container-id-1 input.sk-toggleable__control:checked~div.sk-toggleable__content {max-height: 200px;max-width: 100%;overflow: auto;}#sk-container-id-1 input.sk-toggleable__control:checked~label.sk-toggleable__label-arrow:before {content: \"▾\";}#sk-container-id-1 div.sk-estimator input.sk-toggleable__control:checked~label.sk-toggleable__label {background-color: #d4ebff;}#sk-container-id-1 div.sk-label input.sk-toggleable__control:checked~label.sk-toggleable__label {background-color: #d4ebff;}#sk-container-id-1 input.sk-hidden--visually {border: 0;clip: rect(1px 1px 1px 1px);clip: rect(1px, 1px, 1px, 1px);height: 1px;margin: -1px;overflow: hidden;padding: 0;position: absolute;width: 1px;}#sk-container-id-1 div.sk-estimator {font-family: monospace;background-color: #f0f8ff;border: 1px dotted black;border-radius: 0.25em;box-sizing: border-box;margin-bottom: 0.5em;}#sk-container-id-1 div.sk-estimator:hover {background-color: #d4ebff;}#sk-container-id-1 div.sk-parallel-item::after {content: \"\";width: 100%;border-bottom: 1px solid gray;flex-grow: 1;}#sk-container-id-1 div.sk-label:hover label.sk-toggleable__label {background-color: #d4ebff;}#sk-container-id-1 div.sk-serial::before {content: \"\";position: absolute;border-left: 1px solid gray;box-sizing: border-box;top: 0;bottom: 0;left: 50%;z-index: 0;}#sk-container-id-1 div.sk-serial {display: flex;flex-direction: column;align-items: center;background-color: white;padding-right: 0.2em;padding-left: 0.2em;position: relative;}#sk-container-id-1 div.sk-item {position: relative;z-index: 1;}#sk-container-id-1 div.sk-parallel {display: flex;align-items: stretch;justify-content: center;background-color: white;position: relative;}#sk-container-id-1 div.sk-item::before, #sk-container-id-1 div.sk-parallel-item::before {content: \"\";position: absolute;border-left: 1px solid gray;box-sizing: border-box;top: 0;bottom: 0;left: 50%;z-index: -1;}#sk-container-id-1 div.sk-parallel-item {display: flex;flex-direction: column;z-index: 1;position: relative;background-color: white;}#sk-container-id-1 div.sk-parallel-item:first-child::after {align-self: flex-end;width: 50%;}#sk-container-id-1 div.sk-parallel-item:last-child::after {align-self: flex-start;width: 50%;}#sk-container-id-1 div.sk-parallel-item:only-child::after {width: 0;}#sk-container-id-1 div.sk-dashed-wrapped {border: 1px dashed gray;margin: 0 0.4em 0.5em 0.4em;box-sizing: border-box;padding-bottom: 0.4em;background-color: white;}#sk-container-id-1 div.sk-label label {font-family: monospace;font-weight: bold;display: inline-block;line-height: 1.2em;}#sk-container-id-1 div.sk-label-container {text-align: center;}#sk-container-id-1 div.sk-container {/* jupyter's `normalize.less` sets `[hidden] { display: none; }` but bootstrap.min.css set `[hidden] { display: none !important; }` so we also need the `!important` here to be able to override the default hidden behavior on the sphinx rendered scikit-learn.org. See: https://github.com/scikit-learn/scikit-learn/issues/21755 */display: inline-block !important;position: relative;}#sk-container-id-1 div.sk-text-repr-fallback {display: none;}</style><div id=\"sk-container-id-1\" class=\"sk-top-container\"><div class=\"sk-text-repr-fallback\"><pre>SVR(gamma=&#x27;auto_deprecated&#x27;)</pre><b>In a Jupyter environment, please rerun this cell to show the HTML representation or trust the notebook. <br />On GitHub, the HTML representation is unable to render, please try loading this page with nbviewer.org.</b></div><div class=\"sk-container\" hidden><div class=\"sk-item\"><div class=\"sk-estimator sk-toggleable\"><input class=\"sk-toggleable__control sk-hidden--visually\" id=\"sk-estimator-id-1\" type=\"checkbox\" checked><label for=\"sk-estimator-id-1\" class=\"sk-toggleable__label sk-toggleable__label-arrow\">SVR</label><div class=\"sk-toggleable__content\"><pre>SVR(gamma=&#x27;auto_deprecated&#x27;)</pre></div></div></div></div></div>"
      ],
      "text/plain": [
       "SVR(gamma='auto_deprecated')"
      ]
     },
     "execution_count": 175,
     "metadata": {},
     "output_type": "execute_result"
    }
   ],
   "source": [
    "SVR(kernel='rbf', degree=3, gamma='auto_deprecated', coef0=0.0, tol=0.001, \n",
    "    C=1.0, epsilon=0.1, shrinking=True, cache_size=200, verbose=False, max_iter=-1)"
   ]
  },
  {
   "cell_type": "code",
   "execution_count": null,
   "metadata": {},
   "outputs": [],
   "source": [
    "#parameter_space = \\\n",
    "#    {\n",
    "#        \"kernel\": [\"poly\", \"linear\", \"rbf\", \"sigmoid\"],\n",
    "#        \"degree\": [3, 5],\n",
    "#        \"coef0\": [0, 3, 7],\n",
    "#        \"gamma\":[1e-3, 1e-1, 1/x_train.shape[1]],\n",
    "#        \"C\": [1, 10, 100],\n",
    "#    }\n",
    "\n",
    "#clf = RandomizedSearchCV(SVR(), parameter_space, cv=3, n_jobs=4,\n",
    "#                   scoring=\"neg_mean_absolute_error\")\n",
    "\n",
    "#clf.fit(x_train, y_train)\n",
    "#print(\"Best parameters:\")\n",
    "#print(clf.best_params_)"
   ]
  },
  {
   "cell_type": "code",
   "execution_count": null,
   "metadata": {},
   "outputs": [],
   "source": [
    "#svr_model = SVR(**clf.best_params_)\n",
    "svr_model = SVR()"
   ]
  },
  {
   "cell_type": "code",
   "execution_count": null,
   "metadata": {},
   "outputs": [],
   "source": [
    "svr_model.fit(x_train_x, y_train_y)"
   ]
  },
  {
   "cell_type": "code",
   "execution_count": null,
   "metadata": {},
   "outputs": [],
   "source": [
    "y_pred_svr = svr_model.predict(x_train_x)\n",
    "svr_mae = mean_absolute_error(y_train_y, y_pred_svr)\n",
    "print(\"Support Vector Regression MAE =\", svr_mae)"
   ]
  },
  {
   "attachments": {},
   "cell_type": "markdown",
   "metadata": {},
   "source": [
    "### KNN"
   ]
  },
  {
   "cell_type": "code",
   "execution_count": null,
   "metadata": {},
   "outputs": [],
   "source": [
    "from sklearn.neighbors import KNeighborsRegressor"
   ]
  },
  {
   "cell_type": "code",
   "execution_count": null,
   "metadata": {},
   "outputs": [],
   "source": [
    "KNeighborsRegressor(n_neighbors=5, weights='uniform', algorithm='auto', \n",
    "                    leaf_size=30, p=2, metric='minkowski', metric_params=None, \n",
    "                    n_jobs=None)"
   ]
  },
  {
   "cell_type": "code",
   "execution_count": null,
   "metadata": {},
   "outputs": [],
   "source": [
    "#parameter_space = {\n",
    "#    \"n_neighbors\": [9, 10, 11,50],\n",
    "#    \"weights\": [\"uniform\", \"distance\"],\n",
    "#    \"algorithm\": [\"ball_tree\", \"kd_tree\", \"brute\"],\n",
    "#    \"leaf_size\": [1,2,20,50,200]\n",
    "#}\n",
    "\n",
    "#clf = GridSearchCV(KNeighborsRegressor(), parameter_space, cv=3, \n",
    "#                   scoring=\"neg_mean_absolute_error\", n_jobs=4)\n",
    "\n",
    "#clf.fit(X_train, y_train)\n",
    "#print(\"Best parameters:\")\n",
    "#print(clf.best_params_)"
   ]
  },
  {
   "cell_type": "code",
   "execution_count": null,
   "metadata": {},
   "outputs": [],
   "source": [
    "#knn_model = KNeighborsRegressor(**clf.best_params_)\n",
    "knn_model = KNeighborsRegressor()"
   ]
  },
  {
   "cell_type": "code",
   "execution_count": null,
   "metadata": {},
   "outputs": [],
   "source": [
    "knn_model.fit(x_train_x, y_train_y)"
   ]
  },
  {
   "cell_type": "code",
   "execution_count": null,
   "metadata": {},
   "outputs": [],
   "source": [
    "y_pred_knn = knn_model.predict(x_train_x)\n",
    "knn_mae = mean_absolute_error(y_train_y, y_pred_knn)\n",
    "print(\"K-Nearest Neighbors MAE =\", knn_mae)"
   ]
  },
  {
   "attachments": {},
   "cell_type": "markdown",
   "metadata": {},
   "source": [
    "### Decision tree"
   ]
  },
  {
   "cell_type": "code",
   "execution_count": 94,
   "metadata": {},
   "outputs": [],
   "source": [
    "from sklearn.tree import DecisionTreeRegressor"
   ]
  },
  {
   "cell_type": "code",
   "execution_count": null,
   "metadata": {},
   "outputs": [],
   "source": [
    "DecisionTreeRegressor(criterion='mse', splitter='best', max_depth=None, \n",
    "                      min_samples_split=2, min_samples_leaf=1, \n",
    "                      min_weight_fraction_leaf=0.0, max_features=None, \n",
    "                      random_state=None, max_leaf_nodes=None, min_impurity_decrease=0.0, \n",
    "                      min_impurity_split=None, presort=False)"
   ]
  },
  {
   "cell_type": "code",
   "execution_count": null,
   "metadata": {},
   "outputs": [],
   "source": [
    "#parameter_space = \\\n",
    "#    {\n",
    "#        \"criterion\": [\"mse\", \"friedman_mse\", \"mae\"],\n",
    "#        \"min_samples_split\": [5, 18, 29, 50],\n",
    "#        \"min_samples_leaf\": [3, 7, 15, 25],\n",
    "#        \"max_features\": [20, 50, 150, 200, X_train.shape[1]],\n",
    "#    }\n",
    "\n",
    "#clf = GridSearchCV(DecisionTreeRegressor(random_state=3), parameter_space, \n",
    "#                   cv=3, scoring=\"neg_mean_absolute_error\", n_jobs=4)\n",
    "\n",
    "#clf.fit(X_train, y_train)\n",
    "#print(\"Best parameters:\")\n",
    "#print(clf.best_params_)"
   ]
  },
  {
   "cell_type": "code",
   "execution_count": null,
   "metadata": {},
   "outputs": [],
   "source": [
    "#dt_model = DecisionTreeRegressor(**clf.best_params_)\n",
    "dt_model = DecisionTreeRegressor()"
   ]
  },
  {
   "cell_type": "code",
   "execution_count": null,
   "metadata": {},
   "outputs": [],
   "source": [
    "dt_model.fit(x_train_x, y_train_y)"
   ]
  },
  {
   "cell_type": "code",
   "execution_count": null,
   "metadata": {},
   "outputs": [],
   "source": [
    "y_pred_dt = dt_model.predict(x_train_x)\n",
    "dt_mae = mean_absolute_error(y_train_y, y_pred_dt)\n",
    "print(\"Decision Tree MAE =\", dt_mae)"
   ]
  },
  {
   "attachments": {},
   "cell_type": "markdown",
   "metadata": {},
   "source": [
    "### Neutral Network"
   ]
  },
  {
   "cell_type": "code",
   "execution_count": 95,
   "metadata": {},
   "outputs": [],
   "source": [
    "from sklearn.neural_network import MLPRegressor"
   ]
  },
  {
   "cell_type": "code",
   "execution_count": null,
   "metadata": {},
   "outputs": [],
   "source": [
    "MLPRegressor(hidden_layer_sizes=(100, ), activation='relu', solver='adam', \n",
    "             alpha=0.0001, batch_size='auto', learning_rate='constant', \n",
    "             learning_rate_init=0.001, power_t=0.5, max_iter=200, shuffle=True, \n",
    "             random_state=None, tol=0.0001, verbose=False, warm_start=False, \n",
    "             momentum=0.9, nesterovs_momentum=True, early_stopping=False, \n",
    "             validation_fraction=0.1, beta_1=0.9, beta_2=0.999, epsilon=1e-08, \n",
    "             n_iter_no_change=10)"
   ]
  },
  {
   "cell_type": "code",
   "execution_count": null,
   "metadata": {},
   "outputs": [],
   "source": [
    "#parameter_space = \\\n",
    "#    {\n",
    "#        \"hidden_layer_sizes\": [(7,)*3, (19,), (100,), (154,)],\n",
    "#        \"activation\": [\"identity\", \"logistic\", \"tanh\", \"relu\"],\n",
    "#        \"solver\": [\"lbfgs\"],\n",
    "#        \"alpha\": [1, 10, 100],\n",
    "#    }\n",
    "\n",
    "#clf = GridSearchCV(MLPRegressor(random_state=3), parameter_space, \n",
    "#                   cv=3, scoring=\"neg_mean_absolute_error\", n_jobs=4)\n",
    "\n",
    "#clf.fit(X_train, y_train)\n",
    "#print(\"Best parameters:\")\n",
    "#print(clf.best_params_)"
   ]
  },
  {
   "cell_type": "code",
   "execution_count": null,
   "metadata": {},
   "outputs": [],
   "source": [
    "#nn_model = MLPRegressor(**clf.best_params_)\n",
    "nn_model = MLPRegressor()"
   ]
  },
  {
   "cell_type": "code",
   "execution_count": null,
   "metadata": {},
   "outputs": [],
   "source": [
    "nn_model.fit(x_train_x, y_train_y)"
   ]
  },
  {
   "cell_type": "code",
   "execution_count": null,
   "metadata": {},
   "outputs": [],
   "source": [
    "y_pred_nn = nn_model.predict(x_train_x)\n",
    "nn_mae = mean_absolute_error(y_train_y, y_pred_nn)\n",
    "print(\"Neural Network MAE =\", nn_mae)"
   ]
  },
  {
   "attachments": {},
   "cell_type": "markdown",
   "metadata": {},
   "source": [
    "### Random Forest"
   ]
  },
  {
   "cell_type": "code",
   "execution_count": 96,
   "metadata": {},
   "outputs": [],
   "source": [
    "from sklearn.ensemble import RandomForestRegressor"
   ]
  },
  {
   "cell_type": "code",
   "execution_count": null,
   "metadata": {},
   "outputs": [],
   "source": [
    "RandomForestRegressor(n_estimators='warn', criterion='mse', max_depth=None, \n",
    "                      min_samples_split=2, min_samples_leaf=1, \n",
    "                      min_weight_fraction_leaf=0.0, max_features='auto', \n",
    "                      max_leaf_nodes=None, min_impurity_decrease=0.0, \n",
    "                      min_impurity_split=None, bootstrap=True, oob_score=False, \n",
    "                      n_jobs=None, random_state=None, verbose=0, warm_start=False)"
   ]
  },
  {
   "cell_type": "code",
   "execution_count": null,
   "metadata": {},
   "outputs": [],
   "source": [
    "#parameter_space = \\\n",
    "#    {\n",
    "#        \"n_estimators\": [10, 100, 300, 600],\n",
    "#        \"criterion\": [\"mse\", \"mae\"],\n",
    "#        \"max_depth\": [7, 50, 254],\n",
    "#        \"min_samples_split\": [2, 5],\n",
    "#        \"min_samples_leaf\": [1, 5],\n",
    "#        \"max_features\": [19, 100, X_train.shape[1]],\n",
    "#        \"bootstrap\": [True, False],\n",
    "#    }\n",
    "\n",
    "#clf = RandomizedSearchCV(RandomForestRegressor(random_state=3), \n",
    "#                         parameter_space, cv=3, n_jobs=4,\n",
    "#                         scoring=\"neg_mean_absolute_error\", \n",
    "#                         n_iter=10, random_state=3)\n",
    "\n",
    "#clf.fit(X_train, y_train)\n",
    "#print(\"Best parameters:\")\n",
    "#print(clf.best_params_)"
   ]
  },
  {
   "cell_type": "code",
   "execution_count": null,
   "metadata": {},
   "outputs": [],
   "source": [
    "#rf_model = RandomForestRegressor(**clf.best_params_)\n",
    "rf_model = RandomForestRegressor()"
   ]
  },
  {
   "cell_type": "code",
   "execution_count": null,
   "metadata": {},
   "outputs": [],
   "source": [
    "rf_model.fit(x_train_x, y_train_y)"
   ]
  },
  {
   "cell_type": "code",
   "execution_count": null,
   "metadata": {},
   "outputs": [],
   "source": [
    "y_pred_rf = rf_model.predict(x_train_x)\n",
    "rf_mae = mean_absolute_error(y_train_y, y_pred_rf)\n",
    "print(\"Random Forest MAE =\", rf_mae)"
   ]
  },
  {
   "attachments": {},
   "cell_type": "markdown",
   "metadata": {},
   "source": [
    "### Gradient Boosting"
   ]
  },
  {
   "cell_type": "code",
   "execution_count": 97,
   "metadata": {},
   "outputs": [],
   "source": [
    "from xgboost import XGBRegressor"
   ]
  },
  {
   "cell_type": "code",
   "execution_count": null,
   "metadata": {},
   "outputs": [],
   "source": [
    "XGBRegressor(max_depth=3, learning_rate=0.1, n_estimators=100, silent=True, \n",
    "             objective='reg:linear', booster='gbtree', n_jobs=1, nthread=None, \n",
    "             gamma=0, min_child_weight=1, max_delta_step=0, subsample=1, \n",
    "             colsample_bytree=1, colsample_bylevel=1, reg_alpha=0, reg_lambda=1, \n",
    "             scale_pos_weight=1, base_score=0.5, random_state=0, seed=None, \n",
    "             missing=None, importance_type='gain')"
   ]
  },
  {
   "cell_type": "code",
   "execution_count": null,
   "metadata": {},
   "outputs": [],
   "source": [
    "#parameter_space = \\\n",
    "#    {\n",
    "#        \"max_depth\": [4, 5, 6],\n",
    "#        \"learning_rate\": [0.005, 0.009, 0.01],\n",
    "#        \"n_estimators\": [700, 1000, 2500],\n",
    "#        \"booster\": [\"gbtree\",],\n",
    "#        \"gamma\": [7, 25, 100],\n",
    "#        \"subsample\": [0.3, 0.6],\n",
    "#        \"colsample_bytree\": [0.5, 0.7],\n",
    "#        \"colsample_bylevel\": [0.5, 0.7,],\n",
    "#        \"reg_alpha\": [1, 10, 33],\n",
    "#        \"reg_lambda\": [1, 3, 10],\n",
    "#    }\n",
    "\n",
    "#clf = RandomizedSearchCV(XGBRegressor(random_state=3), \n",
    "#                         parameter_space, cv=3, n_jobs=4,\n",
    "#                         scoring=\"neg_mean_absolute_error\", \n",
    "#                         random_state=3, n_iter=10)\n",
    "\n",
    "#clf.fit(X_train, y_train)\n",
    "#print(\"Best parameters:\")\n",
    "#print(clf.best_params_)"
   ]
  },
  {
   "cell_type": "code",
   "execution_count": null,
   "metadata": {},
   "outputs": [],
   "source": [
    "#xgb_model = XGBRegressor(**clf.best_params_)\n",
    "xgb_model = XGBRegressor()"
   ]
  },
  {
   "cell_type": "code",
   "execution_count": null,
   "metadata": {},
   "outputs": [],
   "source": [
    "xgb_model.fit(x_train_x, y_train_y)"
   ]
  },
  {
   "cell_type": "code",
   "execution_count": null,
   "metadata": {},
   "outputs": [],
   "source": [
    "y_pred_gb = xgb_model.predict(x_train_x)\n",
    "xgb_mae = mean_absolute_error(y_train_y, y_pred_gb)\n",
    "print(\"XGBoost MAE =\", xgb_mae)"
   ]
  }
 ],
 "metadata": {
  "kernelspec": {
   "display_name": "Python 3",
   "language": "python",
   "name": "python3"
  },
  "language_info": {
   "codemirror_mode": {
    "name": "ipython",
    "version": 3
   },
   "file_extension": ".py",
   "mimetype": "text/x-python",
   "name": "python",
   "nbconvert_exporter": "python",
   "pygments_lexer": "ipython3",
   "version": "3.11.3"
  },
  "orig_nbformat": 4
 },
 "nbformat": 4,
 "nbformat_minor": 2
}
